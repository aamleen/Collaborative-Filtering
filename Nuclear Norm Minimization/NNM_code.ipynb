{
  "cells": [
    {
      "attachments": {},
      "cell_type": "markdown",
      "metadata": {
        "id": "bgVADQDKqoxl"
      },
      "source": [
        "## Importing Libraries"
      ]
    },
    {
      "cell_type": "code",
      "execution_count": 1,
      "metadata": {
        "id": "iLbmnEK4V-a6"
      },
      "outputs": [],
      "source": [
        "import numpy as np\n",
        "import pandas as pd\n",
        "import matplotlib.pyplot as plt\n",
        "import scipy.stats as stats\n",
        "import random"
      ]
    },
    {
      "attachments": {},
      "cell_type": "markdown",
      "metadata": {
        "id": "ROv1JYBIqush"
      },
      "source": [
        "## Setting path for reading data\n",
        "   2 ways: either through google drive, or local pc path. Use the cell appropriately. Also change the paths accordingly. \n",
        "   Don't run the below 2 cells if not using on Google Drive"
      ]
    },
    {
      "cell_type": "code",
      "execution_count": 2,
      "metadata": {
        "colab": {
          "base_uri": "https://localhost:8080/"
        },
        "id": "47aZrrIEWDEC",
        "outputId": "45660ffd-9c97-4e32-c377-68305e37d628"
      },
      "outputs": [
        {
          "name": "stdout",
          "output_type": "stream",
          "text": [
            "Mounted at /content/gdrive\n"
          ]
        }
      ],
      "source": [
        "from google.colab import drive\n",
        "drive.mount('/content/gdrive', force_remount=True)"
      ]
    },
    {
      "cell_type": "code",
      "execution_count": 3,
      "metadata": {
        "colab": {
          "base_uri": "https://localhost:8080/"
        },
        "id": "HcDqCphDWER2",
        "outputId": "5aa63493-4de5-473d-9fb1-8b1ca79208d6"
      },
      "outputs": [
        {
          "name": "stdout",
          "output_type": "stream",
          "text": [
            "/content/gdrive/MyDrive\n",
            "/content/gdrive/MyDrive/CF_Data\n"
          ]
        }
      ],
      "source": [
        "%cd /content/gdrive/MyDrive\n",
        "%cd CF_Data"
      ]
    },
    {
      "attachments": {},
      "cell_type": "markdown",
      "metadata": {
        "id": "3wQLUZK1q7uW"
      },
      "source": [
        "## Nuclear Norm Minimzation"
      ]
    },
    {
      "cell_type": "code",
      "execution_count": null,
      "metadata": {
        "id": "viJ9Vk7LWGUa"
      },
      "outputs": [],
      "source": [
        "def nuclear_norm_minimization(Y, lambda_, k):\n",
        "    #initialise X\n",
        "    X = np.random.rand(Y.shape[0], Y.shape[1])\n",
        "    #Creating R matrix with shape of Y\n",
        "    R = np.zeros(Y.shape)\n",
        "    #Now putting 1s in R where Y is not 0\n",
        "    R[Y!=0] = 1\n",
        "    #Now iterating k times\n",
        "    while(k>0):\n",
        "        #Putting 0 values in R_X where R is 0\n",
        "        R_X = np.multiply(R, X)\n",
        "        #Calculate B\n",
        "        B = X + Y - R_X\n",
        "        U, S, V = np.linalg.svd(B, full_matrices=False)\n",
        "        S = np.diag(S)\n",
        "        #Making negative values 0 after subtracting lambda/2\n",
        "        S = np.maximum(S - lambda_/2, 0)\n",
        "        #Updating X\n",
        "        X = np.dot(U, np.dot(S, V))\n",
        "        k = k-1\n",
        "    return X"
      ]
    },
    {
      "cell_type": "code",
      "execution_count": 7,
      "metadata": {
        "id": "qKIA6wZBWLyK"
      },
      "outputs": [],
      "source": [
        "#Calculate NMAE for the users present in the test data\n",
        "def NMAE(test_data, predicted_matrix):\n",
        "    test_data = test_data[test_data['rating'] > 0]  \n",
        "    NMAE = 0\n",
        "    for line in test_data.itertuples():\n",
        "        NMAE += abs(line[3] - predicted_matrix[line[1]-1, line[2]-1])\n",
        "    NMAE = NMAE / len(test_data)\n",
        "    #Normalise the NMAE by the range of the ratings in the test data and return\n",
        "    return NMAE / (max(test_data['rating']) - min(test_data['rating']))"
      ]
    },
    {
      "cell_type": "code",
      "execution_count": null,
      "metadata": {
        "id": "f5mO9uDOQYbi"
      },
      "outputs": [],
      "source": []
    },
    {
      "attachments": {},
      "cell_type": "markdown",
      "metadata": {
        "id": "3bTcesjdrC74"
      },
      "source": [
        "## Reading Data and running for 5-folds"
      ]
    },
    {
      "cell_type": "code",
      "execution_count": null,
      "metadata": {
        "id": "ckBe7PIHWQZZ"
      },
      "outputs": [],
      "source": [
        "#Performing ALS on the 5 fold datasets\n",
        "def NN_folds(fold_index, lambda_, max_iter):\n",
        "    #Read the data\n",
        "    train_data = pd.read_csv(f'ml-100k/u{fold_index}.base', sep='\\t', names=['user_id', 'item_id', 'rating', 'timestamp'])\n",
        "    test_data = pd.read_csv(f'ml-100k/u{fold_index}.test', sep='\\t', names=['user_id', 'item_id', 'rating', 'timestamp'])\n",
        "    #Create a matrix of users and items\n",
        "    train_data_matrix = np.zeros((943, 1682))\n",
        "    for line in train_data.itertuples():\n",
        "        train_data_matrix[line[1]-1, line[2]-1] = line[3]\n",
        "    #Predict the missing values\n",
        "    predicted_matrix = nuclear_norm_minimization(train_data_matrix, lambda_, max_iter)\n",
        "    #Calculate NMAE for the users present in the test data\n",
        "    NMAE_ = NMAE(test_data, predicted_matrix)\n",
        "    print(f'NMAE for fold {fold_index} is: {NMAE_}')\n",
        "    return NMAE_"
      ]
    },
    {
      "attachments": {},
      "cell_type": "markdown",
      "metadata": {
        "id": "pANpwNcRrbgZ"
      },
      "source": [
        "# Optimization"
      ]
    },
    {
      "attachments": {},
      "cell_type": "markdown",
      "metadata": {
        "id": "UHfNmXJKrMbb"
      },
      "source": [
        "## Finding the range of hyperparameters, where best results can be expected\n",
        "### Note: Next couple of cells are just for pattern observation, need to scroll a lot"
      ]
    },
    {
      "attachments": {},
      "cell_type": "markdown",
      "metadata": {
        "id": "znh2t4pMrlPL"
      },
      "source": [
        "## Varying Learning Rate"
      ]
    },
    {
      "cell_type": "code",
      "execution_count": null,
      "metadata": {
        "colab": {
          "base_uri": "https://localhost:8080/"
        },
        "id": "hWugVOZhWT1i",
        "outputId": "004909c1-1090-4da7-ec4d-a45b773b0869"
      },
      "outputs": [
        {
          "name": "stdout",
          "output_type": "stream",
          "text": [
            "NMAE for fold 1 is: 0.756268895220086\n",
            "NMAE for fold 2 is: 0.7578381339452863\n",
            "NMAE for fold 3 is: 0.7531697032291403\n",
            "NMAE for fold 4 is: 0.7526695514229723\n",
            "NMAE for fold 5 is: 0.752533496765638\n"
          ]
        }
      ],
      "source": [
        "for i in range(1, 6):\n",
        "    NN_folds(i)"
      ]
    },
    {
      "cell_type": "code",
      "execution_count": null,
      "metadata": {
        "colab": {
          "base_uri": "https://localhost:8080/",
          "height": 1000
        },
        "id": "SkD9ypLdFCTV",
        "outputId": "ffc46fab-2ca7-4c78-b841-34b819730311"
      },
      "outputs": [],
      "source": [
        "#Optimize the hyperparameter lambda using 5-fold cross validation\n",
        "#Use the NMAE as the performance metric\n",
        "#Plot the NMAE vs lambda curve\n",
        "#Report the best value of lambda and the corresponding NMAE\n",
        "\n",
        "max_iter = [10, 30, 50]\n",
        "lamdas = [6, 6.5, 6.7]\n",
        "NMAE_list = []\n",
        "for j in max_iter:\n",
        "    print(f'max_iter= {j}',end=':: ')\n",
        "    for lr in lamdas:\n",
        "        NMAE_list.append(NN_folds(4, lr, j))\n",
        "        print(f'lr= {lr}',end='; ')\n",
        "    print()\n",
        "\n",
        "plt.plot(lamdas, NMAE_list)\n",
        "plt.xlabel('lambda')\n",
        "plt.ylabel('NMAE')\n",
        "plt.show()"
      ]
    },
    {
      "cell_type": "code",
      "execution_count": null,
      "metadata": {
        "colab": {
          "base_uri": "https://localhost:8080/"
        },
        "id": "ibQnygoyG6DK",
        "outputId": "5c9d2d66-bbf4-43a5-f779-88ec5fbe077d"
      },
      "outputs": [
        {
          "name": "stdout",
          "output_type": "stream",
          "text": [
            "NMAE for fold 4 is: 0.563121681721848\n",
            "0.563121681721848\n"
          ]
        }
      ],
      "source": [
        "print(NN_folds(4, 8, 10))"
      ]
    },
    {
      "cell_type": "code",
      "execution_count": null,
      "metadata": {
        "colab": {
          "base_uri": "https://localhost:8080/"
        },
        "id": "iaTROALJIM9n",
        "outputId": "262e2751-a18f-4e05-a10c-0aeda10c9118"
      },
      "outputs": [
        {
          "name": "stdout",
          "output_type": "stream",
          "text": [
            "NMAE for fold 4 is: 0.25224813366040805\n"
          ]
        },
        {
          "data": {
            "text/plain": [
              "0.25224813366040805"
            ]
          },
          "execution_count": 15,
          "metadata": {},
          "output_type": "execute_result"
        }
      ],
      "source": [
        "NN_folds(4, 6.9, 100)"
      ]
    },
    {
      "attachments": {},
      "cell_type": "markdown",
      "metadata": {
        "id": "zYlk31RFtDr6"
      },
      "source": [
        "## Running for the best Parameters, for all folds"
      ]
    },
    {
      "cell_type": "code",
      "execution_count": 4,
      "metadata": {
        "id": "kEp_MIak74Nm"
      },
      "outputs": [],
      "source": [
        "def nuclear_norm_minimization(Y, lambda_, k):\n",
        "    #initialise X\n",
        "    X = np.random.rand(Y.shape[0], Y.shape[1])\n",
        "    #Creating R matrix with shape of Y\n",
        "    R = np.zeros(Y.shape)\n",
        "    #Now putting 1s in R where Y is not 0\n",
        "    R[Y!=0] = 1\n",
        "    #Now iterating k times\n",
        "    while(k>0):\n",
        "        #Putting 0 values in R_X where R is 0\n",
        "        R_X = np.multiply(R, X)\n",
        "        #Calculate B\n",
        "        B = X + Y - R_X\n",
        "        U, S, V = np.linalg.svd(B, full_matrices=False)\n",
        "        S = np.diag(S)\n",
        "        #Making negative values 0 after subtracting lambda/2\n",
        "        S = np.maximum(S - 6/2, 0)\n",
        "        #Updating X\n",
        "        X = np.dot(U, np.dot(S, V))\n",
        "        k = k-1\n",
        "    return X"
      ]
    },
    {
      "cell_type": "code",
      "execution_count": null,
      "metadata": {
        "colab": {
          "base_uri": "https://localhost:8080/"
        },
        "id": "Z3nQ5v5qjyI4",
        "outputId": "7a5c0ed7-bbd9-4d7b-ff20-08a626a9a539"
      },
      "outputs": [
        {
          "name": "stdout",
          "output_type": "stream",
          "text": [
            "NMAE for fold 1 is: 0.2376860394409616\n"
          ]
        }
      ],
      "source": [
        "#Performing ALS on the 5 fold datasets\n",
        "def NN_folds(fold_index, lambda_, max_iter):\n",
        "    #Read the data\n",
        "    train_data = pd.read_csv(f'ml-100k/u{fold_index}.base', sep='\\t', names=['user_id', 'item_id', 'rating', 'timestamp'])\n",
        "    test_data = pd.read_csv(f'ml-100k/u{fold_index}.test', sep='\\t', names=['user_id', 'item_id', 'rating', 'timestamp'])\n",
        "    #Create a matrix of users and items\n",
        "    train_data_matrix = np.zeros((943, 1682))\n",
        "    for line in train_data.itertuples():\n",
        "        train_data_matrix[line[1]-1, line[2]-1] = line[3]\n",
        "    #Predict the missing values\n",
        "    predicted_matrix = nuclear_norm_minimization(train_data_matrix, lambda_, max_iter)\n",
        "    #Calculate NMAE for the users present in the test data\n",
        "    NMAE_ = NMAE(test_data, predicted_matrix)\n",
        "    print(f'NMAE for fold {fold_index} is: {NMAE_}')\n",
        "  \n",
        "NN_folds(1, 6.9, 150)"
      ]
    },
    {
      "cell_type": "code",
      "execution_count": null,
      "metadata": {
        "colab": {
          "base_uri": "https://localhost:8080/"
        },
        "id": "y9SY-z1RK74X",
        "outputId": "67d8f4da-59af-4ef3-f7dc-6d5b04df61ae"
      },
      "outputs": [
        {
          "name": "stdout",
          "output_type": "stream",
          "text": [
            "NMAE for fold 1 is: 0.22464227540395854\n"
          ]
        }
      ],
      "source": [
        "#Performing ALS on the 5 fold datasets\n",
        "predicted_matrix = []\n",
        "predicted_matrix_rounded = []\n",
        "\n",
        "def NN_folds(fold_index, lambda_, max_iter):\n",
        "    global predicted_matrix\n",
        "    global predicted_matrix_rounded\n",
        "    #Read the data\n",
        "    train_data = pd.read_csv(f'ml-100k/u{fold_index}.base', sep='\\t', names=['user_id', 'item_id', 'rating', 'timestamp'])\n",
        "    test_data = pd.read_csv(f'ml-100k/u{fold_index}.test', sep='\\t', names=['user_id', 'item_id', 'rating', 'timestamp'])\n",
        "    #Create a matrix of users and items\n",
        "    train_data_matrix = np.zeros((943, 1682))\n",
        "    for line in train_data.itertuples():\n",
        "        train_data_matrix[line[1]-1, line[2]-1] = line[3]\n",
        "    #Predict the missing values\n",
        "    predicted_matrix = nuclear_norm_minimization(train_data_matrix, lambda_, max_iter)\n",
        "    predicted_matrix_rounded = np.round(predicted_matrix)\n",
        "    #Calculate NMAE for the users present in the test data\n",
        "    NMAE_ = NMAE(test_data, predicted_matrix)\n",
        "    print(f'NMAE for fold {fold_index} is: {NMAE_}')\n",
        "  \n",
        "NN_folds(1, 6.9, 200)"
      ]
    },
    {
      "attachments": {},
      "cell_type": "markdown",
      "metadata": {
        "id": "7kDngY9QxAZd"
      },
      "source": [
        "# Rounded off results to the nearest rating integer"
      ]
    },
    {
      "cell_type": "code",
      "execution_count": null,
      "metadata": {
        "colab": {
          "base_uri": "https://localhost:8080/"
        },
        "id": "gfaUpIinwpuX",
        "outputId": "8d6d20d1-954a-4662-b2e3-bd3661cb7e64"
      },
      "outputs": [
        {
          "name": "stdout",
          "output_type": "stream",
          "text": [
            "NMAE for fold 1 is: 0.2167375\n"
          ]
        }
      ],
      "source": [
        "test_data = pd.read_csv(f'ml-100k/u1.test', sep='\\t', names=['user_id', 'item_id', 'rating', 'timestamp'])\n",
        "NMAE_ = NMAE(test_data, predicted_matrix_rounded)\n",
        "print(f'NMAE for fold 1 is: {NMAE_}')"
      ]
    },
    {
      "cell_type": "code",
      "execution_count": 8,
      "metadata": {
        "colab": {
          "base_uri": "https://localhost:8080/"
        },
        "id": "r0vL0XhOO9iW",
        "outputId": "48bd1d55-d700-4c54-c624-2461a7b1d1b2"
      },
      "outputs": [
        {
          "name": "stdout",
          "output_type": "stream",
          "text": [
            "NMAE for fold 1 is: 0.369687476676441\n"
          ]
        }
      ],
      "source": [
        "#Performing ALS on the 5 fold datasets\n",
        "predicted_matrix = []\n",
        "predicted_matrix_rounded = []\n",
        "\n",
        "def NN_folds(fold_index, lambda_, max_iter):\n",
        "    global predicted_matrix\n",
        "    global predicted_matrix_rounded\n",
        "    #Read the data\n",
        "    train_data = pd.read_csv(f'ml-100k/u{fold_index}.base', sep='\\t', names=['user_id', 'item_id', 'rating', 'timestamp'])\n",
        "    test_data = pd.read_csv(f'ml-100k/u{fold_index}.test', sep='\\t', names=['user_id', 'item_id', 'rating', 'timestamp'])\n",
        "    #Create a matrix of users and items\n",
        "    train_data_matrix = np.zeros((943, 1682))\n",
        "    for line in train_data.itertuples():\n",
        "        train_data_matrix[line[1]-1, line[2]-1] = line[3]\n",
        "    #Predict the missing values\n",
        "    predicted_matrix = nuclear_norm_minimization(train_data_matrix, lambda_, max_iter)\n",
        "    predicted_matrix_rounded = np.round(predicted_matrix)\n",
        "    #Calculate NMAE for the users present in the test data\n",
        "    NMAE_ = NMAE(test_data, predicted_matrix)\n",
        "    print(f'NMAE for fold {fold_index} is: {NMAE_}')\n",
        "\n",
        "NN_folds(1, 0.1, 50)"
      ]
    }
  ],
  "metadata": {
    "colab": {
      "provenance": []
    },
    "kernelspec": {
      "display_name": "Python 3",
      "name": "python3"
    },
    "language_info": {
      "name": "python"
    }
  },
  "nbformat": 4,
  "nbformat_minor": 0
}
