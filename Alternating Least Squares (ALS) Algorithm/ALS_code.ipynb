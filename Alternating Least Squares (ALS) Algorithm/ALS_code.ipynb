{
  "nbformat": 4,
  "nbformat_minor": 0,
  "metadata": {
    "colab": {
      "provenance": []
    },
    "kernelspec": {
      "name": "python3",
      "display_name": "Python 3"
    },
    "language_info": {
      "name": "python"
    }
  },
  "cells": [
    {
      "cell_type": "markdown",
      "source": [
        "## Importing Libraries"
      ],
      "metadata": {
        "id": "bgVADQDKqoxl"
      }
    },
    {
      "cell_type": "code",
      "execution_count": 1,
      "metadata": {
        "id": "iLbmnEK4V-a6"
      },
      "outputs": [],
      "source": [
        "import numpy as np\n",
        "import pandas as pd\n",
        "import matplotlib.pyplot as plt\n",
        "import math\n",
        "import random\n",
        "from sklearn.metrics import mean_absolute_error"
      ]
    },
    {
      "cell_type": "markdown",
      "source": [
        "## Setting path for reading data\n",
        "   2 ways: either through google drive, or local pc path. Use the cell appropriately. Also change the paths accordingly. \n",
        "   Don't run the below 2 cells if not using on Google Drive"
      ],
      "metadata": {
        "id": "ROv1JYBIqush"
      }
    },
    {
      "cell_type": "code",
      "source": [
        "from google.colab import drive\n",
        "drive.mount('/content/gdrive', force_remount=True)"
      ],
      "metadata": {
        "colab": {
          "base_uri": "https://localhost:8080/"
        },
        "id": "47aZrrIEWDEC",
        "outputId": "3e7fd52a-beea-455c-df81-4f1d1788b582"
      },
      "execution_count": 2,
      "outputs": [
        {
          "output_type": "stream",
          "name": "stdout",
          "text": [
            "Mounted at /content/gdrive\n"
          ]
        }
      ]
    },
    {
      "cell_type": "code",
      "source": [
        "%cd /content/gdrive/MyDrive\n",
        "%cd CF_Data"
      ],
      "metadata": {
        "colab": {
          "base_uri": "https://localhost:8080/"
        },
        "id": "HcDqCphDWER2",
        "outputId": "3638f823-b4a6-48f5-ed4e-b940cb9e3421"
      },
      "execution_count": 3,
      "outputs": [
        {
          "output_type": "stream",
          "name": "stdout",
          "text": [
            "/content/gdrive/MyDrive\n",
            "/content/gdrive/MyDrive/CF_Data\n"
          ]
        }
      ]
    },
    {
      "cell_type": "markdown",
      "source": [
        "## Alternating Least Squares Algorithm (ALS)"
      ],
      "metadata": {
        "id": "3wQLUZK1q7uW"
      }
    },
    {
      "cell_type": "code",
      "source": [
        "#Implementing Alternating Least Squares (ALS) Algorithm to predict the missing values\n",
        "def ALS(train_data_matrix, k, learning_rate, max_iter):\n",
        "    #Initialise U and V\n",
        "    U = np.random.rand(train_data_matrix.shape[0], k)\n",
        "    V = np.random.rand(train_data_matrix.shape[1], k)\n",
        "    #Iterate over the number of iterations \n",
        "    for j in range(max_iter):\n",
        "        #Update V\n",
        "        for i in range(train_data_matrix.shape[1]):\n",
        "            #Find the non-zero indices\n",
        "            idx = np.where(train_data_matrix[:, i] > 0)[0]\n",
        "            #Find the corresponding U values\n",
        "            U_i = U[idx, :]\n",
        "            #Find the corresponding ratings\n",
        "            ratings = train_data_matrix[idx, i]\n",
        "            #Find the V_i\n",
        "            A = np.dot(U_i.T, U_i) + learning_rate * np.eye(k)\n",
        "            b = np.dot(U_i.T, ratings)\n",
        "            V_i = np.linalg.solve(A, b)\n",
        "            #Update V\n",
        "            V[i, :] = V_i\n",
        "        #Update U\n",
        "        for i in range(train_data_matrix.shape[0]):\n",
        "            #Find the non-zero indices\n",
        "            idx = np.where(train_data_matrix[i, :] > 0)[0]\n",
        "            #Find the corresponding V values\n",
        "            V_i = V[idx, :]\n",
        "            #Find the corresponding ratings\n",
        "            ratings = train_data_matrix[i, idx]\n",
        "            #Find the U_i\n",
        "            A = np.dot(V_i.T, V_i) + learning_rate * np.eye(k)\n",
        "            b = np.dot(V_i.T, ratings)\n",
        "            U_i = np.linalg.solve(A, b)\n",
        "            #Update U\n",
        "            U[i, :] = U_i.T\n",
        "    return np.dot(U, V.T)"
      ],
      "metadata": {
        "id": "viJ9Vk7LWGUa"
      },
      "execution_count": 4,
      "outputs": []
    },
    {
      "cell_type": "code",
      "source": [
        "#Calculate NMAE for the users present in the test data\n",
        "def NMAE(test_data, predicted_matrix):\n",
        "    test_data = test_data[test_data['rating'] > 0]  \n",
        "    NMAE = 0\n",
        "    for line in test_data.itertuples():\n",
        "        NMAE += abs(line[3] - predicted_matrix[line[1]-1, line[2]-1])\n",
        "    NMAE = NMAE / len(test_data)\n",
        "    #Normalise the NMAE by the range of the ratings in the test data and return\n",
        "    return NMAE / (max(test_data['rating']) - min(test_data['rating']))"
      ],
      "metadata": {
        "id": "qKIA6wZBWLyK"
      },
      "execution_count": 5,
      "outputs": []
    },
    {
      "cell_type": "markdown",
      "source": [
        "## Reading Data and running for 5-folds"
      ],
      "metadata": {
        "id": "3bTcesjdrC74"
      }
    },
    {
      "cell_type": "code",
      "source": [
        "#Performing ALS on the 5 fold datasets\n",
        "def ALS_5fold(fold_index):\n",
        "    #Read the data\n",
        "    train_data = pd.read_csv(f'ml-100k/u{fold_index}.base', sep='\\t', names=['user_id', 'item_id', 'rating', 'timestamp'])\n",
        "    test_data = pd.read_csv(f'ml-100k/u{fold_index}.test', sep='\\t', names=['user_id', 'item_id', 'rating', 'timestamp'])\n",
        "    #Create a matrix of users and items\n",
        "    train_data_matrix = np.zeros((943, 1682))\n",
        "    for line in train_data.itertuples():\n",
        "        train_data_matrix[line[1]-1, line[2]-1] = line[3]\n",
        "    #Predict the missing values\n",
        "    predicted_matrix = ALS(train_data_matrix, 6, 7, 20)\n",
        "    #Calculate NMAE for the users present in the test data\n",
        "    NMAE_ = NMAE(test_data, predicted_matrix)\n",
        "    print(f'NMAE for fold {fold_index} is: {NMAE_}')\n",
        "    return NMAE_"
      ],
      "metadata": {
        "id": "ckBe7PIHWQZZ"
      },
      "execution_count": 43,
      "outputs": []
    },
    {
      "cell_type": "markdown",
      "source": [
        "# Optimization"
      ],
      "metadata": {
        "id": "pANpwNcRrbgZ"
      }
    },
    {
      "cell_type": "markdown",
      "source": [
        "## Finding the range of hyperparameters, where best results can be expected\n",
        "### Note: Next couple of cells are just for pattern observation, need to scroll a lot"
      ],
      "metadata": {
        "id": "UHfNmXJKrMbb"
      }
    },
    {
      "cell_type": "markdown",
      "source": [
        "## Varying Learning Rate"
      ],
      "metadata": {
        "id": "znh2t4pMrlPL"
      }
    },
    {
      "cell_type": "code",
      "source": [
        "for i in range(1, 6):\n",
        "    ALS_5fold(i)"
      ],
      "metadata": {
        "colab": {
          "base_uri": "https://localhost:8080/"
        },
        "id": "hWugVOZhWT1i",
        "outputId": "2c1c6922-de10-4716-ef82-de6b4c5dbdce"
      },
      "execution_count": 7,
      "outputs": [
        {
          "output_type": "stream",
          "name": "stdout",
          "text": [
            "NMAE for fold 1 is: 0.24058566204859225\n",
            "NMAE for fold 2 is: 0.22633898529319313\n",
            "NMAE for fold 3 is: 0.22563563197920403\n",
            "NMAE for fold 4 is: 0.22697912955828234\n",
            "NMAE for fold 5 is: 0.22782588587123737\n"
          ]
        }
      ]
    },
    {
      "cell_type": "code",
      "source": [
        "for i in range(1, 6):\n",
        "    ALS_5fold(i)"
      ],
      "metadata": {
        "colab": {
          "base_uri": "https://localhost:8080/"
        },
        "id": "UiBa0HDMW0dU",
        "outputId": "ead8b91a-3570-4878-f791-63f44b7173ca"
      },
      "execution_count": 12,
      "outputs": [
        {
          "output_type": "stream",
          "name": "stdout",
          "text": [
            "NMAE for fold 1 is: 0.22273058186598246\n",
            "NMAE for fold 2 is: 0.21588762611798903\n",
            "NMAE for fold 3 is: 0.21914796906713135\n",
            "NMAE for fold 4 is: 0.2172045676811821\n",
            "NMAE for fold 5 is: 0.21892098854706254\n"
          ]
        }
      ]
    },
    {
      "cell_type": "code",
      "source": [
        "for i in range(1, 6):\n",
        "    ALS_5fold(i)"
      ],
      "metadata": {
        "colab": {
          "base_uri": "https://localhost:8080/"
        },
        "id": "zwWdzQrKXKSB",
        "outputId": "9df4b8e9-774a-49ec-b269-d42b636ae2dc"
      },
      "execution_count": 14,
      "outputs": [
        {
          "output_type": "stream",
          "name": "stdout",
          "text": [
            "NMAE for fold 1 is: 0.2191113679183334\n",
            "NMAE for fold 2 is: 0.21284589374724497\n",
            "NMAE for fold 3 is: 0.21457377851331125\n",
            "NMAE for fold 4 is: 0.2127058975826296\n",
            "NMAE for fold 5 is: 0.2137214873784152\n"
          ]
        }
      ]
    },
    {
      "cell_type": "code",
      "source": [
        "for i in range(1, 6):\n",
        "    ALS_5fold(i)"
      ],
      "metadata": {
        "colab": {
          "base_uri": "https://localhost:8080/"
        },
        "id": "-KXezjouXWrQ",
        "outputId": "132298c2-b6e1-4e0e-c78b-54667dc4979a"
      },
      "execution_count": 16,
      "outputs": [
        {
          "output_type": "stream",
          "name": "stdout",
          "text": [
            "NMAE for fold 1 is: 0.21107284131725865\n",
            "NMAE for fold 2 is: 0.20705357600647611\n",
            "NMAE for fold 3 is: 0.20925686145279143\n",
            "NMAE for fold 4 is: 0.20942404995684402\n",
            "NMAE for fold 5 is: 0.21038793569477066\n"
          ]
        }
      ]
    },
    {
      "cell_type": "code",
      "source": [
        "for i in range(1, 6):\n",
        "    ALS_5fold(i)"
      ],
      "metadata": {
        "colab": {
          "base_uri": "https://localhost:8080/"
        },
        "id": "sfEpjwWcXeyw",
        "outputId": "45df90ed-434e-4af2-8a9c-b56f0e08a5e8"
      },
      "execution_count": 18,
      "outputs": [
        {
          "output_type": "stream",
          "name": "stdout",
          "text": [
            "NMAE for fold 1 is: 0.20932540499703392\n",
            "NMAE for fold 2 is: 0.20519200676021196\n",
            "NMAE for fold 3 is: 0.20503099270646222\n",
            "NMAE for fold 4 is: 0.2041208343243921\n",
            "NMAE for fold 5 is: 0.2068649614800484\n"
          ]
        }
      ]
    },
    {
      "cell_type": "code",
      "source": [
        "for i in range(1, 6):\n",
        "    ALS_5fold(i)"
      ],
      "metadata": {
        "colab": {
          "base_uri": "https://localhost:8080/"
        },
        "id": "stqRnS47Xp2h",
        "outputId": "af9eeb85-ab07-4c32-ade5-12093d63252c"
      },
      "execution_count": 20,
      "outputs": [
        {
          "output_type": "stream",
          "name": "stdout",
          "text": [
            "NMAE for fold 1 is: 0.20521108260757365\n",
            "NMAE for fold 2 is: 0.20092157209784153\n",
            "NMAE for fold 3 is: 0.2013458015177974\n",
            "NMAE for fold 4 is: 0.2005196367553851\n",
            "NMAE for fold 5 is: 0.19950351067035108\n"
          ]
        }
      ]
    },
    {
      "cell_type": "markdown",
      "source": [
        "#### Lamda = 5"
      ],
      "metadata": {
        "id": "9qi_m_IVYa9r"
      }
    },
    {
      "cell_type": "code",
      "source": [
        "for i in range(1, 6):\n",
        "    ALS_5fold(i)"
      ],
      "metadata": {
        "colab": {
          "base_uri": "https://localhost:8080/"
        },
        "id": "f3nh3V75YBR3",
        "outputId": "1c3be478-0e94-4ddf-a49c-50f58328b6ad"
      },
      "execution_count": 22,
      "outputs": [
        {
          "output_type": "stream",
          "name": "stdout",
          "text": [
            "NMAE for fold 1 is: 0.18986045301347274\n",
            "NMAE for fold 2 is: 0.1868855064327854\n",
            "NMAE for fold 3 is: 0.1882779420726974\n",
            "NMAE for fold 4 is: 0.1872777985819066\n",
            "NMAE for fold 5 is: 0.19003327151230476\n"
          ]
        }
      ]
    },
    {
      "cell_type": "markdown",
      "source": [
        "##### Lamda=10"
      ],
      "metadata": {
        "id": "ltgyqnH2ZTNN"
      }
    },
    {
      "cell_type": "code",
      "source": [
        "for i in range(1, 6):\n",
        "    ALS_5fold(i)"
      ],
      "metadata": {
        "colab": {
          "base_uri": "https://localhost:8080/"
        },
        "id": "64D0vBARYIua",
        "outputId": "07c40508-ec79-49e5-f204-37d3432b19bc"
      },
      "execution_count": 26,
      "outputs": [
        {
          "output_type": "stream",
          "name": "stdout",
          "text": [
            "NMAE for fold 1 is: 0.19316557242548268\n",
            "NMAE for fold 2 is: 0.18916600525493224\n",
            "NMAE for fold 3 is: 0.18957950252305408\n",
            "NMAE for fold 4 is: 0.1897918368275614\n",
            "NMAE for fold 5 is: 0.19430819293525134\n"
          ]
        }
      ]
    },
    {
      "cell_type": "markdown",
      "source": [
        "##### Lamda=7.5"
      ],
      "metadata": {
        "id": "01EJwmVlZXPw"
      }
    },
    {
      "cell_type": "code",
      "source": [
        "for i in range(1, 6):\n",
        "    ALS_5fold(i)"
      ],
      "metadata": {
        "colab": {
          "base_uri": "https://localhost:8080/"
        },
        "id": "UTK77qDBZbRF",
        "outputId": "0e1301f0-b7ce-4c22-d04f-9712c4a7e175"
      },
      "execution_count": 28,
      "outputs": [
        {
          "output_type": "stream",
          "name": "stdout",
          "text": [
            "NMAE for fold 1 is: 0.19053249815511186\n",
            "NMAE for fold 2 is: 0.18714786890745808\n",
            "NMAE for fold 3 is: 0.1875913532118417\n",
            "NMAE for fold 4 is: 0.18782223083470184\n",
            "NMAE for fold 5 is: 0.19126465402788914\n"
          ]
        }
      ]
    },
    {
      "cell_type": "markdown",
      "source": [
        "##### Lamda=7"
      ],
      "metadata": {
        "id": "02Dcf1Tur0Mr"
      }
    },
    {
      "cell_type": "code",
      "source": [
        "for i in range(1, 6):\n",
        "    ALS_5fold(i)"
      ],
      "metadata": {
        "colab": {
          "base_uri": "https://localhost:8080/"
        },
        "id": "5G4QMpPyZuBO",
        "outputId": "ec3ef277-8b44-4488-bd47-d21bdffc5118"
      },
      "execution_count": 30,
      "outputs": [
        {
          "output_type": "stream",
          "name": "stdout",
          "text": [
            "NMAE for fold 1 is: 0.18999097399243536\n",
            "NMAE for fold 2 is: 0.1870170177728325\n",
            "NMAE for fold 3 is: 0.18791483990511987\n",
            "NMAE for fold 4 is: 0.1879032707147518\n",
            "NMAE for fold 5 is: 0.19061840123320145\n"
          ]
        }
      ]
    },
    {
      "cell_type": "markdown",
      "source": [
        "### Varying k or the no. of factors, lamda = 7"
      ],
      "metadata": {
        "id": "8pjIs3tNr6ea"
      }
    },
    {
      "cell_type": "markdown",
      "source": [
        "##### k=20"
      ],
      "metadata": {
        "id": "l7QAr4skafH7"
      }
    },
    {
      "cell_type": "code",
      "source": [
        "for i in range(1, 6):\n",
        "    ALS_5fold(i)"
      ],
      "metadata": {
        "colab": {
          "base_uri": "https://localhost:8080/"
        },
        "id": "7pvgT9c6aQGo",
        "outputId": "8faa5a19-5f64-4c93-be4f-3d300e1e4534"
      },
      "execution_count": 32,
      "outputs": [
        {
          "output_type": "stream",
          "name": "stdout",
          "text": [
            "NMAE for fold 1 is: 0.19477422035185896\n",
            "NMAE for fold 2 is: 0.1927233991763041\n",
            "NMAE for fold 3 is: 0.19356750055297606\n",
            "NMAE for fold 4 is: 0.19382461967826878\n",
            "NMAE for fold 5 is: 0.19627785245782628\n"
          ]
        }
      ]
    },
    {
      "cell_type": "markdown",
      "source": [
        "#### k=2"
      ],
      "metadata": {
        "id": "m7o-X9uGatGC"
      }
    },
    {
      "cell_type": "code",
      "source": [
        "for i in range(1, 6):\n",
        "    ALS_5fold(i)"
      ],
      "metadata": {
        "colab": {
          "base_uri": "https://localhost:8080/"
        },
        "id": "Ekbx5Brval_j",
        "outputId": "a1aba18f-308c-4843-a20d-10d958b6dfd8"
      },
      "execution_count": 34,
      "outputs": [
        {
          "output_type": "stream",
          "name": "stdout",
          "text": [
            "NMAE for fold 1 is: 0.1897407260051318\n",
            "NMAE for fold 2 is: 0.18726925745127126\n",
            "NMAE for fold 3 is: 0.18750491578381487\n",
            "NMAE for fold 4 is: 0.18717493170385477\n",
            "NMAE for fold 5 is: 0.19035165714023672\n"
          ]
        }
      ]
    },
    {
      "cell_type": "markdown",
      "source": [
        "##### k=6"
      ],
      "metadata": {
        "id": "tR4zznzWbSfF"
      }
    },
    {
      "cell_type": "code",
      "source": [
        "for i in range(1, 6):\n",
        "    ALS_5fold(i)"
      ],
      "metadata": {
        "colab": {
          "base_uri": "https://localhost:8080/"
        },
        "id": "tGVAVS8Ga_2v",
        "outputId": "e364d995-5dfb-4795-fb01-572d4b8e0cdc"
      },
      "execution_count": 36,
      "outputs": [
        {
          "output_type": "stream",
          "name": "stdout",
          "text": [
            "NMAE for fold 1 is: 0.18853557796234646\n",
            "NMAE for fold 2 is: 0.18479855594970204\n",
            "NMAE for fold 3 is: 0.1855723002056491\n",
            "NMAE for fold 4 is: 0.18620453100451229\n",
            "NMAE for fold 5 is: 0.18892278045313274\n"
          ]
        }
      ]
    },
    {
      "cell_type": "markdown",
      "source": [
        "k=8"
      ],
      "metadata": {
        "id": "pRHapNCVbnmg"
      }
    },
    {
      "cell_type": "code",
      "source": [
        "for i in range(1, 6):\n",
        "    ALS_5fold(i)"
      ],
      "metadata": {
        "colab": {
          "base_uri": "https://localhost:8080/"
        },
        "id": "UWmkT1VybOPC",
        "outputId": "383838e2-04e2-4edb-96a7-a7ce474d5eda"
      },
      "execution_count": 40,
      "outputs": [
        {
          "output_type": "stream",
          "name": "stdout",
          "text": [
            "NMAE for fold 1 is: 0.18978026698776512\n",
            "NMAE for fold 2 is: 0.18514362457395375\n",
            "NMAE for fold 3 is: 0.18682608518822455\n",
            "NMAE for fold 4 is: 0.18663119539418088\n",
            "NMAE for fold 5 is: 0.18957630918294205\n"
          ]
        }
      ]
    },
    {
      "cell_type": "markdown",
      "source": [
        "### Varying Maximum Iterations, Lamda =7 and k=6"
      ],
      "metadata": {
        "id": "SRnEZ8ZssFWQ"
      }
    },
    {
      "cell_type": "markdown",
      "source": [
        "#### max_iter = 100"
      ],
      "metadata": {
        "id": "bdr49AB_bviT"
      }
    },
    {
      "cell_type": "code",
      "source": [
        "for i in range(1, 6):\n",
        "    ALS_5fold(i)"
      ],
      "metadata": {
        "colab": {
          "base_uri": "https://localhost:8080/"
        },
        "id": "5jLJMzxZbjau",
        "outputId": "e2e63851-8ce5-48d3-a3b8-89b80919785d"
      },
      "execution_count": 42,
      "outputs": [
        {
          "output_type": "stream",
          "name": "stdout",
          "text": [
            "NMAE for fold 1 is: 0.1886473859411727\n",
            "NMAE for fold 2 is: 0.18487806242123062\n",
            "NMAE for fold 3 is: 0.1854749493260189\n",
            "NMAE for fold 4 is: 0.18622807141213193\n",
            "NMAE for fold 5 is: 0.1891658646418497\n"
          ]
        }
      ]
    },
    {
      "cell_type": "markdown",
      "source": [
        "##### max_iter = 20"
      ],
      "metadata": {
        "id": "zgFkx-4acDeb"
      }
    },
    {
      "cell_type": "code",
      "source": [
        "for i in range(1, 6):\n",
        "    ALS_5fold(i)"
      ],
      "metadata": {
        "colab": {
          "base_uri": "https://localhost:8080/"
        },
        "id": "c5TMyXKob7YQ",
        "outputId": "83f8e6a1-14d3-46f3-a9ff-ce73697d5307"
      },
      "execution_count": 44,
      "outputs": [
        {
          "output_type": "stream",
          "name": "stdout",
          "text": [
            "NMAE for fold 1 is: 0.1887609652245569\n",
            "NMAE for fold 2 is: 0.18453820976941093\n",
            "NMAE for fold 3 is: 0.18596520394580754\n",
            "NMAE for fold 4 is: 0.18639950364025373\n",
            "NMAE for fold 5 is: 0.18848879589442102\n"
          ]
        }
      ]
    },
    {
      "cell_type": "markdown",
      "source": [
        "### Now varying between the above found best range"
      ],
      "metadata": {
        "id": "eiyowjOUsQWf"
      }
    },
    {
      "cell_type": "code",
      "source": [
        "train_data = pd.read_csv(f'ml-100k/u2.base', sep='\\t', names=['user_id', 'item_id', 'rating', 'timestamp'])\n",
        "test_data = pd.read_csv(f'ml-100k/u2.test', sep='\\t', names=['user_id', 'item_id', 'rating', 'timestamp'])\n",
        "#Create a matrix of users and items\n",
        "train_data_matrix = np.zeros((943, 1682))\n",
        "for line in train_data.itertuples():\n",
        "    train_data_matrix[line[1]-1, line[2]-1] = line[3]"
      ],
      "metadata": {
        "id": "lQxh3EOVWals"
      },
      "execution_count": 47,
      "outputs": []
    },
    {
      "cell_type": "code",
      "source": [
        "#Opimise the hyperparameters to get the best RMSE and NMAE\n",
        "#Hyperparameters to be optimised are k and max_iter\n",
        "k = [1, 2, 3, 4, 5, 6, 7]\n",
        "max_iter = [10, 20, 25, 30, 40, 50]\n",
        "l_r = [5, 5.5, 6, 6.5, 6.7]\n",
        "NMAE_list = []\n",
        "for i in k:\n",
        "    print(f'k= {i}')\n",
        "    for j in max_iter:\n",
        "        print(f'max_iter= {j}',end=':: ')\n",
        "        for lr in l_r:\n",
        "            predicted_ratings = ALS(train_data_matrix, i, lr, j)\n",
        "            NMAE_list.append(NMAE(test_data, predicted_ratings))\n",
        "            print(f'lr= {lr}',end='; ')\n",
        "        print()"
      ],
      "metadata": {
        "colab": {
          "base_uri": "https://localhost:8080/"
        },
        "id": "zsjHSpfdWhdv",
        "outputId": "5ca9e141-c64e-4f84-bbbc-5a8c0dfd4d49"
      },
      "execution_count": 49,
      "outputs": [
        {
          "output_type": "stream",
          "name": "stdout",
          "text": [
            "k= 1\n",
            "max_iter= 10:: lr= 5; lr= 5.5; lr= 6; lr= 6.5; lr= 6.7; \n",
            "max_iter= 20:: lr= 5; lr= 5.5; lr= 6; lr= 6.5; lr= 6.7; \n",
            "max_iter= 25:: lr= 5; lr= 5.5; lr= 6; lr= 6.5; lr= 6.7; \n",
            "max_iter= 30:: lr= 5; lr= 5.5; lr= 6; lr= 6.5; lr= 6.7; \n",
            "max_iter= 40:: lr= 5; lr= 5.5; lr= 6; lr= 6.5; lr= 6.7; \n",
            "max_iter= 50:: lr= 5; lr= 5.5; lr= 6; lr= 6.5; lr= 6.7; \n",
            "k= 2\n",
            "max_iter= 10:: lr= 5; lr= 5.5; lr= 6; lr= 6.5; lr= 6.7; \n",
            "max_iter= 20:: lr= 5; lr= 5.5; lr= 6; lr= 6.5; lr= 6.7; \n",
            "max_iter= 25:: lr= 5; lr= 5.5; lr= 6; lr= 6.5; lr= 6.7; \n",
            "max_iter= 30:: lr= 5; lr= 5.5; lr= 6; lr= 6.5; lr= 6.7; \n",
            "max_iter= 40:: lr= 5; lr= 5.5; lr= 6; lr= 6.5; lr= 6.7; \n",
            "max_iter= 50:: lr= 5; lr= 5.5; lr= 6; lr= 6.5; lr= 6.7; \n",
            "k= 3\n",
            "max_iter= 10:: lr= 5; lr= 5.5; lr= 6; lr= 6.5; lr= 6.7; \n",
            "max_iter= 20:: lr= 5; lr= 5.5; lr= 6; lr= 6.5; lr= 6.7; \n",
            "max_iter= 25:: lr= 5; lr= 5.5; lr= 6; lr= 6.5; lr= 6.7; \n",
            "max_iter= 30:: lr= 5; lr= 5.5; lr= 6; lr= 6.5; lr= 6.7; \n",
            "max_iter= 40:: lr= 5; lr= 5.5; lr= 6; lr= 6.5; lr= 6.7; \n",
            "max_iter= 50:: lr= 5; lr= 5.5; lr= 6; lr= 6.5; lr= 6.7; \n",
            "k= 4\n",
            "max_iter= 10:: lr= 5; lr= 5.5; lr= 6; lr= 6.5; lr= 6.7; \n",
            "max_iter= 20:: lr= 5; lr= 5.5; lr= 6; lr= 6.5; lr= 6.7; \n",
            "max_iter= 25:: lr= 5; lr= 5.5; lr= 6; lr= 6.5; lr= 6.7; \n",
            "max_iter= 30:: lr= 5; lr= 5.5; lr= 6; lr= 6.5; lr= 6.7; \n",
            "max_iter= 40:: lr= 5; lr= 5.5; lr= 6; lr= 6.5; lr= 6.7; \n",
            "max_iter= 50:: lr= 5; lr= 5.5; lr= 6; lr= 6.5; lr= 6.7; \n",
            "k= 5\n",
            "max_iter= 10:: lr= 5; lr= 5.5; lr= 6; lr= 6.5; lr= 6.7; \n",
            "max_iter= 20:: lr= 5; lr= 5.5; lr= 6; lr= 6.5; lr= 6.7; \n",
            "max_iter= 25:: lr= 5; lr= 5.5; lr= 6; lr= 6.5; lr= 6.7; \n",
            "max_iter= 30:: lr= 5; lr= 5.5; lr= 6; lr= 6.5; lr= 6.7; \n",
            "max_iter= 40:: lr= 5; lr= 5.5; lr= 6; lr= 6.5; lr= 6.7; \n",
            "max_iter= 50:: lr= 5; lr= 5.5; lr= 6; lr= 6.5; lr= 6.7; \n",
            "k= 6\n",
            "max_iter= 10:: lr= 5; lr= 5.5; lr= 6; lr= 6.5; lr= 6.7; \n",
            "max_iter= 20:: lr= 5; lr= 5.5; lr= 6; lr= 6.5; lr= 6.7; \n",
            "max_iter= 25:: lr= 5; lr= 5.5; lr= 6; lr= 6.5; lr= 6.7; \n",
            "max_iter= 30:: lr= 5; lr= 5.5; lr= 6; lr= 6.5; lr= 6.7; \n",
            "max_iter= 40:: lr= 5; lr= 5.5; lr= 6; lr= 6.5; lr= 6.7; \n",
            "max_iter= 50:: lr= 5; lr= 5.5; lr= 6; lr= 6.5; lr= 6.7; \n",
            "k= 7\n",
            "max_iter= 10:: lr= 5; lr= 5.5; lr= 6; lr= 6.5; lr= 6.7; \n",
            "max_iter= 20:: lr= 5; lr= 5.5; lr= 6; lr= 6.5; lr= 6.7; \n",
            "max_iter= 25:: lr= 5; lr= 5.5; lr= 6; lr= 6.5; lr= 6.7; \n",
            "max_iter= 30:: lr= 5; lr= 5.5; lr= 6; lr= 6.5; lr= 6.7; \n",
            "max_iter= 40:: lr= 5; lr= 5.5; lr= 6; lr= 6.5; lr= 6.7; \n",
            "max_iter= 50:: lr= 5; lr= 5.5; lr= 6; lr= 6.5; lr= 6.7; \n"
          ]
        }
      ]
    },
    {
      "cell_type": "code",
      "source": [
        "#Plot the RMSE and NMAE for different hyperparameters\n",
        "plt.plot(NMAE_list)\n",
        "plt.xlabel('Hyperparameter combinations')\n",
        "plt.ylabel('NMAE')\n",
        "plt.show()"
      ],
      "metadata": {
        "colab": {
          "base_uri": "https://localhost:8080/",
          "height": 449
        },
        "id": "mC20u3_ScTXW",
        "outputId": "116a1d14-ffc8-44f6-a671-f1c833bfb21a"
      },
      "execution_count": 50,
      "outputs": [
        {
          "output_type": "display_data",
          "data": {
            "text/plain": [
              "<Figure size 640x480 with 1 Axes>"
            ],
            "image/png": "[encoded data removed]"
          },
          "metadata": {}
        }
      ]
    },
    {
      "cell_type": "code",
      "source": [
        "#Saving NMAE_list in a pickle file\n",
        "import pickle\n",
        "with open('NMAE_list.pickle', 'wb') as f:\n",
        "    pickle.dump(NMAE_list, f)"
      ],
      "metadata": {
        "id": "oIsHhDPphQJx"
      },
      "execution_count": 51,
      "outputs": []
    },
    {
      "cell_type": "code",
      "source": [],
      "metadata": {
        "colab": {
          "base_uri": "https://localhost:8080/"
        },
        "id": "daYZS1jYhgM7",
        "outputId": "3076e75e-5049-4f5f-b23f-fa5ce4936efe"
      },
      "execution_count": 52,
      "outputs": [
        {
          "output_type": "stream",
          "name": "stdout",
          "text": [
            "0.18210595250383516\n",
            "130\n"
          ]
        }
      ]
    },
    {
      "cell_type": "markdown",
      "source": [
        "### Finding best parameters"
      ],
      "metadata": {
        "id": "YkNA44jZsfII"
      }
    },
    {
      "cell_type": "code",
      "source": [
        "#index of the minimum NMAE\n",
        "min_index = NMAE_list.index(min(NMAE_list)) + 1\n",
        "#Find the least RMSE and NMAE\n",
        "print()\n",
        "counter = 0\n",
        "for i in k:\n",
        "    for j in max_iter:\n",
        "        for lr in l_r:\n",
        "            counter+=1\n",
        "            if counter==min_index:\n",
        "                print(f'Minimum NMAE is: {min(NMAE_list)}. Parameters: k= {i}, max_iter= {j}, l_r= {lr}')\n",
        "                break"
      ],
      "metadata": {
        "colab": {
          "base_uri": "https://localhost:8080/"
        },
        "id": "WaWF3XAUiOAF",
        "outputId": "e5e6d1d8-71b6-4602-e2fb-a379caf4b8bd"
      },
      "execution_count": 93,
      "outputs": [
        {
          "output_type": "stream",
          "name": "stdout",
          "text": [
            "\n",
            "Minimum NMAE is: 0.18210595250383516. Parameters: k= 5, max_iter= 25, l_r= 5\n"
          ]
        }
      ]
    },
    {
      "cell_type": "markdown",
      "source": [
        "## Running for the best Parameters, for all folds"
      ],
      "metadata": {
        "id": "zYlk31RFtDr6"
      }
    },
    {
      "cell_type": "code",
      "source": [
        "#Performing ALS on the 5 fold datasets\n",
        "def ALS_5fold(fold_index):\n",
        "    #Read the data\n",
        "    train_data = pd.read_csv(f'ml-100k/u{fold_index}.base', sep='\\t', names=['user_id', 'item_id', 'rating', 'timestamp'])\n",
        "    test_data = pd.read_csv(f'ml-100k/u{fold_index}.test', sep='\\t', names=['user_id', 'item_id', 'rating', 'timestamp'])\n",
        "    #Create a matrix of users and items\n",
        "    train_data_matrix = np.zeros((943, 1682))\n",
        "    for line in train_data.itertuples():\n",
        "        train_data_matrix[line[1]-1, line[2]-1] = line[3]\n",
        "    #Predict the missing values\n",
        "    predicted_matrix = ALS(train_data_matrix, 5, 5, 25)\n",
        "    #Calculate NMAE for the users present in the test data\n",
        "    NMAE_ = NMAE(test_data, predicted_matrix)\n",
        "    print(f'NMAE for fold {fold_index} is: {NMAE_}')\n",
        "    return NMAE_\n",
        "\n",
        "NMAE_fold = [] \n",
        "for i in range(1, 6):\n",
        "    NMAE_fold.append(ALS_5fold(i))\n",
        "\n",
        "print(f'Average NMAE is: {sum(NMAE_fold)/len(NMAE_fold)}')"
      ],
      "metadata": {
        "colab": {
          "base_uri": "https://localhost:8080/"
        },
        "id": "Z3nQ5v5qjyI4",
        "outputId": "58847fd1-04bb-4eb6-ed35-f1e2bafbfe9f"
      },
      "execution_count": 82,
      "outputs": [
        {
          "output_type": "stream",
          "name": "stdout",
          "text": [
            "NMAE for fold 1 is: 0.18674183999746669\n",
            "NMAE for fold 2 is: 0.18255420025435906\n",
            "NMAE for fold 3 is: 0.1831302061183982\n",
            "NMAE for fold 4 is: 0.18441261955874175\n",
            "NMAE for fold 5 is: 0.18524785653582043\n",
            "Average NMAE is: 0.1844173444929572\n"
          ]
        }
      ]
    },
    {
      "cell_type": "markdown",
      "source": [
        "# Final Compiled Output"
      ],
      "metadata": {
        "id": "64VQ5QtztJMe"
      }
    },
    {
      "cell_type": "code",
      "source": [
        "#Print a table of the hyperparameters as columns, folds as rows and NMAE as values\n",
        "#Create a dataframe with the hyperparameters as columns, folds as rows and NMAE as values\n",
        "df = pd.DataFrame(columns=['type','NMAE','k', 'max_iter', 'l_r'], index=range(1, 7), dtype='float')\n",
        "#insert the NMAE values in the dataframe\n",
        "for i in range(1, 6):\n",
        "    df.loc[i, 'type'] = f'Fold {i}'\n",
        "    df.loc[i, 'NMAE'] = NMAE_fold[i-1]\n",
        "df.loc[6, 'type'] = 'Average'\n",
        "df.loc[6,'NMAE'] = sum(NMAE_fold)/len(NMAE_fold)\n",
        "#insert the hyperparameters in the dataframe\n",
        "for i in range(1, 7):\n",
        "    df.loc[i, 'k'] = 5\n",
        "    df.loc[i, 'max_iter'] = 25\n",
        "    df.loc[i, 'l_r'] = 5\n",
        "df"
      ],
      "metadata": {
        "colab": {
          "base_uri": "https://localhost:8080/",
          "height": 238
        },
        "id": "QhPo3Zmvn_Lr",
        "outputId": "39e76257-6415-4a39-bcc7-1b5dd841634d"
      },
      "execution_count": 89,
      "outputs": [
        {
          "output_type": "execute_result",
          "data": {
            "text/plain": [
              "      type      NMAE    k  max_iter  l_r\n",
              "1   Fold 1  0.186742  5.0      25.0  5.0\n",
              "2   Fold 2  0.182554  5.0      25.0  5.0\n",
              "3   Fold 3  0.183130  5.0      25.0  5.0\n",
              "4   Fold 4  0.184413  5.0      25.0  5.0\n",
              "5   Fold 5  0.185248  5.0      25.0  5.0\n",
              "6  Average  0.184417  5.0      25.0  5.0"
            ],
            "text/html": [
              "\n",
              "  <div id=\"df-a9c73b99-39ca-4c72-b746-72c8093832a8\">\n",
              "    <div class=\"colab-df-container\">\n",
              "      <div>\n",
              "<style scoped>\n",
              "    .dataframe tbody tr th:only-of-type {\n",
              "        vertical-align: middle;\n",
              "    }\n",
              "\n",
              "    .dataframe tbody tr th {\n",
              "        vertical-align: top;\n",
              "    }\n",
              "\n",
              "    .dataframe thead th {\n",
              "        text-align: right;\n",
              "    }\n",
              "</style>\n",
              "<table border=\"1\" class=\"dataframe\">\n",
              "  <thead>\n",
              "    <tr style=\"text-align: right;\">\n",
              "      <th></th>\n",
              "      <th>type</th>\n",
              "      <th>NMAE</th>\n",
              "      <th>k</th>\n",
              "      <th>max_iter</th>\n",
              "      <th>l_r</th>\n",
              "    </tr>\n",
              "  </thead>\n",
              "  <tbody>\n",
              "    <tr>\n",
              "      <th>1</th>\n",
              "      <td>Fold 1</td>\n",
              "      <td>0.186742</td>\n",
              "      <td>5.0</td>\n",
              "      <td>25.0</td>\n",
              "      <td>5.0</td>\n",
              "    </tr>\n",
              "    <tr>\n",
              "      <th>2</th>\n",
              "      <td>Fold 2</td>\n",
              "      <td>0.182554</td>\n",
              "      <td>5.0</td>\n",
              "      <td>25.0</td>\n",
              "      <td>5.0</td>\n",
              "    </tr>\n",
              "    <tr>\n",
              "      <th>3</th>\n",
              "      <td>Fold 3</td>\n",
              "      <td>0.183130</td>\n",
              "      <td>5.0</td>\n",
              "      <td>25.0</td>\n",
              "      <td>5.0</td>\n",
              "    </tr>\n",
              "    <tr>\n",
              "      <th>4</th>\n",
              "      <td>Fold 4</td>\n",
              "      <td>0.184413</td>\n",
              "      <td>5.0</td>\n",
              "      <td>25.0</td>\n",
              "      <td>5.0</td>\n",
              "    </tr>\n",
              "    <tr>\n",
              "      <th>5</th>\n",
              "      <td>Fold 5</td>\n",
              "      <td>0.185248</td>\n",
              "      <td>5.0</td>\n",
              "      <td>25.0</td>\n",
              "      <td>5.0</td>\n",
              "    </tr>\n",
              "    <tr>\n",
              "      <th>6</th>\n",
              "      <td>Average</td>\n",
              "      <td>0.184417</td>\n",
              "      <td>5.0</td>\n",
              "      <td>25.0</td>\n",
              "      <td>5.0</td>\n",
              "    </tr>\n",
              "  </tbody>\n",
              "</table>\n",
              "</div>\n",
              "      <button class=\"colab-df-convert\" onclick=\"convertToInteractive('df-a9c73b99-39ca-4c72-b746-72c8093832a8')\"\n",
              "              title=\"Convert this dataframe to an interactive table.\"\n",
              "              style=\"display:none;\">\n",
              "        \n",
              "  <svg xmlns=\"http://www.w3.org/2000/svg\" height=\"24px\"viewBox=\"0 0 24 24\"\n",
              "       width=\"24px\">\n",
              "    <path d=\"M0 0h24v24H0V0z\" fill=\"none\"/>\n",
              "    <path d=\"M18.56 5.44l.94 2.06.94-2.06 2.06-.94-2.06-.94-.94-2.06-.94 2.06-2.06.94zm-11 1L8.5 8.5l.94-2.06 2.06-.94-2.06-.94L8.5 2.5l-.94 2.06-2.06.94zm10 10l.94 2.06.94-2.06 2.06-.94-2.06-.94-.94-2.06-.94 2.06-2.06.94z\"/><path d=\"M17.41 7.96l-1.37-1.37c-.4-.4-.92-.59-1.43-.59-.52 0-1.04.2-1.43.59L10.3 9.45l-7.72 7.72c-.78.78-.78 2.05 0 2.83L4 21.41c.39.39.9.59 1.41.59.51 0 1.02-.2 1.41-.59l7.78-7.78 2.81-2.81c.8-.78.8-2.07 0-2.86zM5.41 20L4 18.59l7.72-7.72 1.47 1.35L5.41 20z\"/>\n",
              "  </svg>\n",
              "      </button>\n",
              "      \n",
              "  <style>\n",
              "    .colab-df-container {\n",
              "      display:flex;\n",
              "      flex-wrap:wrap;\n",
              "      gap: 12px;\n",
              "    }\n",
              "\n",
              "    .colab-df-convert {\n",
              "      background-color: #E8F0FE;\n",
              "      border: none;\n",
              "      border-radius: 50%;\n",
              "      cursor: pointer;\n",
              "      display: none;\n",
              "      fill: #1967D2;\n",
              "      height: 32px;\n",
              "      padding: 0 0 0 0;\n",
              "      width: 32px;\n",
              "    }\n",
              "\n",
              "    .colab-df-convert:hover {\n",
              "      background-color: #E2EBFA;\n",
              "      box-shadow: 0px 1px 2px rgba(60, 64, 67, 0.3), 0px 1px 3px 1px rgba(60, 64, 67, 0.15);\n",
              "      fill: #174EA6;\n",
              "    }\n",
              "\n",
              "    [theme=dark] .colab-df-convert {\n",
              "      background-color: #3B4455;\n",
              "      fill: #D2E3FC;\n",
              "    }\n",
              "\n",
              "    [theme=dark] .colab-df-convert:hover {\n",
              "      background-color: #434B5C;\n",
              "      box-shadow: 0px 1px 3px 1px rgba(0, 0, 0, 0.15);\n",
              "      filter: drop-shadow(0px 1px 2px rgba(0, 0, 0, 0.3));\n",
              "      fill: #FFFFFF;\n",
              "    }\n",
              "  </style>\n",
              "\n",
              "      <script>\n",
              "        const buttonEl =\n",
              "          document.querySelector('#df-a9c73b99-39ca-4c72-b746-72c8093832a8 button.colab-df-convert');\n",
              "        buttonEl.style.display =\n",
              "          google.colab.kernel.accessAllowed ? 'block' : 'none';\n",
              "\n",
              "        async function convertToInteractive(key) {\n",
              "          const element = document.querySelector('#df-a9c73b99-39ca-4c72-b746-72c8093832a8');\n",
              "          const dataTable =\n",
              "            await google.colab.kernel.invokeFunction('convertToInteractive',\n",
              "                                                     [key], {});\n",
              "          if (!dataTable) return;\n",
              "\n",
              "          const docLinkHtml = 'Like what you see? Visit the ' +\n",
              "            '<a target=\"_blank\" href=https://colab.research.google.com/notebooks/data_table.ipynb>data table notebook</a>'\n",
              "            + ' to learn more about interactive tables.';\n",
              "          element.innerHTML = '';\n",
              "          dataTable['output_type'] = 'display_data';\n",
              "          await google.colab.output.renderOutput(dataTable, element);\n",
              "          const docLink = document.createElement('div');\n",
              "          docLink.innerHTML = docLinkHtml;\n",
              "          element.appendChild(docLink);\n",
              "        }\n",
              "      </script>\n",
              "    </div>\n",
              "  </div>\n",
              "  "
            ]
          },
          "metadata": {},
          "execution_count": 89
        }
      ]
    },
    {
      "cell_type": "markdown",
      "source": [
        "# Rounded off results to the nearest rating integer"
      ],
      "metadata": {
        "id": "7kDngY9QxAZd"
      }
    },
    {
      "cell_type": "code",
      "source": [
        "#Performing ALS on the 5 fold datasets\n",
        "def ALS_5fold(fold_index):\n",
        "    #Read the data\n",
        "    train_data = pd.read_csv(f'ml-100k/u{fold_index}.base', sep='\\t', names=['user_id', 'item_id', 'rating', 'timestamp'])\n",
        "    test_data = pd.read_csv(f'ml-100k/u{fold_index}.test', sep='\\t', names=['user_id', 'item_id', 'rating', 'timestamp'])\n",
        "    #Create a matrix of users and items\n",
        "    train_data_matrix = np.zeros((943, 1682))\n",
        "    for line in train_data.itertuples():\n",
        "        train_data_matrix[line[1]-1, line[2]-1] = line[3]\n",
        "    #Predict the missing values\n",
        "    predicted_matrix = ALS(train_data_matrix, 5, 5, 25)\n",
        "    predicted_matrix = np.round(predicted_matrix)\n",
        "    #Calculate NMAE for the users present in the test data\n",
        "    NMAE_ = NMAE(test_data, predicted_matrix)\n",
        "    print(f'NMAE for fold {fold_index} is: {NMAE_}')\n",
        "    return NMAE_\n",
        "\n",
        "NMAE_fold = [] \n",
        "for i in range(1, 6):\n",
        "    NMAE_fold.append(ALS_5fold(i))\n",
        "\n",
        "print(f'Average NMAE is: {sum(NMAE_fold)/len(NMAE_fold)}')"
      ],
      "metadata": {
        "colab": {
          "base_uri": "https://localhost:8080/"
        },
        "id": "gfaUpIinwpuX",
        "outputId": "7219a749-4d89-4ad3-b778-8ed45d8ab03e"
      },
      "execution_count": 94,
      "outputs": [
        {
          "output_type": "stream",
          "name": "stdout",
          "text": [
            "NMAE for fold 1 is: 0.175725\n",
            "NMAE for fold 2 is: 0.1725625\n",
            "NMAE for fold 3 is: 0.173275\n",
            "NMAE for fold 4 is: 0.17445\n",
            "NMAE for fold 5 is: 0.1761875\n",
            "Average NMAE is: 0.17443999999999998\n"
          ]
        }
      ]
    },
    {
      "cell_type": "code",
      "source": [
        "#Print a table of the hyperparameters as columns, folds as rows and NMAE as values\n",
        "#Create a dataframe with the hyperparameters as columns, folds as rows and NMAE as values\n",
        "df = pd.DataFrame(columns=['type','NMAE','k', 'max_iter', 'l_r'], index=range(1, 7), dtype='float')\n",
        "#insert the NMAE values in the dataframe\n",
        "for i in range(1, 6):\n",
        "    df.loc[i, 'type'] = f'Fold {i}'\n",
        "    df.loc[i, 'NMAE'] = NMAE_fold[i-1]\n",
        "df.loc[6, 'type'] = 'Average'\n",
        "df.loc[6,'NMAE'] = sum(NMAE_fold)/len(NMAE_fold)\n",
        "#insert the hyperparameters in the dataframe\n",
        "for i in range(1, 7):\n",
        "    df.loc[i, 'k'] = 5\n",
        "    df.loc[i, 'max_iter'] = 25\n",
        "    df.loc[i, 'l_r'] = 5\n",
        "df"
      ],
      "metadata": {
        "colab": {
          "base_uri": "https://localhost:8080/",
          "height": 238
        },
        "id": "hAR2NL-jw9nP",
        "outputId": "51c06169-ac0e-4bf0-93c2-6719cdc528d9"
      },
      "execution_count": 95,
      "outputs": [
        {
          "output_type": "execute_result",
          "data": {
            "text/plain": [
              "      type      NMAE    k  max_iter  l_r\n",
              "1   Fold 1  0.175725  5.0      25.0  5.0\n",
              "2   Fold 2  0.172563  5.0      25.0  5.0\n",
              "3   Fold 3  0.173275  5.0      25.0  5.0\n",
              "4   Fold 4  0.174450  5.0      25.0  5.0\n",
              "5   Fold 5  0.176187  5.0      25.0  5.0\n",
              "6  Average  0.174440  5.0      25.0  5.0"
            ],
            "text/html": [
              "\n",
              "  <div id=\"df-16105eda-e27e-4957-a15e-53741d471a24\">\n",
              "    <div class=\"colab-df-container\">\n",
              "      <div>\n",
              "<style scoped>\n",
              "    .dataframe tbody tr th:only-of-type {\n",
              "        vertical-align: middle;\n",
              "    }\n",
              "\n",
              "    .dataframe tbody tr th {\n",
              "        vertical-align: top;\n",
              "    }\n",
              "\n",
              "    .dataframe thead th {\n",
              "        text-align: right;\n",
              "    }\n",
              "</style>\n",
              "<table border=\"1\" class=\"dataframe\">\n",
              "  <thead>\n",
              "    <tr style=\"text-align: right;\">\n",
              "      <th></th>\n",
              "      <th>type</th>\n",
              "      <th>NMAE</th>\n",
              "      <th>k</th>\n",
              "      <th>max_iter</th>\n",
              "      <th>l_r</th>\n",
              "    </tr>\n",
              "  </thead>\n",
              "  <tbody>\n",
              "    <tr>\n",
              "      <th>1</th>\n",
              "      <td>Fold 1</td>\n",
              "      <td>0.175725</td>\n",
              "      <td>5.0</td>\n",
              "      <td>25.0</td>\n",
              "      <td>5.0</td>\n",
              "    </tr>\n",
              "    <tr>\n",
              "      <th>2</th>\n",
              "      <td>Fold 2</td>\n",
              "      <td>0.172563</td>\n",
              "      <td>5.0</td>\n",
              "      <td>25.0</td>\n",
              "      <td>5.0</td>\n",
              "    </tr>\n",
              "    <tr>\n",
              "      <th>3</th>\n",
              "      <td>Fold 3</td>\n",
              "      <td>0.173275</td>\n",
              "      <td>5.0</td>\n",
              "      <td>25.0</td>\n",
              "      <td>5.0</td>\n",
              "    </tr>\n",
              "    <tr>\n",
              "      <th>4</th>\n",
              "      <td>Fold 4</td>\n",
              "      <td>0.174450</td>\n",
              "      <td>5.0</td>\n",
              "      <td>25.0</td>\n",
              "      <td>5.0</td>\n",
              "    </tr>\n",
              "    <tr>\n",
              "      <th>5</th>\n",
              "      <td>Fold 5</td>\n",
              "      <td>0.176187</td>\n",
              "      <td>5.0</td>\n",
              "      <td>25.0</td>\n",
              "      <td>5.0</td>\n",
              "    </tr>\n",
              "    <tr>\n",
              "      <th>6</th>\n",
              "      <td>Average</td>\n",
              "      <td>0.174440</td>\n",
              "      <td>5.0</td>\n",
              "      <td>25.0</td>\n",
              "      <td>5.0</td>\n",
              "    </tr>\n",
              "  </tbody>\n",
              "</table>\n",
              "</div>\n",
              "      <button class=\"colab-df-convert\" onclick=\"convertToInteractive('df-16105eda-e27e-4957-a15e-53741d471a24')\"\n",
              "              title=\"Convert this dataframe to an interactive table.\"\n",
              "              style=\"display:none;\">\n",
              "        \n",
              "  <svg xmlns=\"http://www.w3.org/2000/svg\" height=\"24px\"viewBox=\"0 0 24 24\"\n",
              "       width=\"24px\">\n",
              "    <path d=\"M0 0h24v24H0V0z\" fill=\"none\"/>\n",
              "    <path d=\"M18.56 5.44l.94 2.06.94-2.06 2.06-.94-2.06-.94-.94-2.06-.94 2.06-2.06.94zm-11 1L8.5 8.5l.94-2.06 2.06-.94-2.06-.94L8.5 2.5l-.94 2.06-2.06.94zm10 10l.94 2.06.94-2.06 2.06-.94-2.06-.94-.94-2.06-.94 2.06-2.06.94z\"/><path d=\"M17.41 7.96l-1.37-1.37c-.4-.4-.92-.59-1.43-.59-.52 0-1.04.2-1.43.59L10.3 9.45l-7.72 7.72c-.78.78-.78 2.05 0 2.83L4 21.41c.39.39.9.59 1.41.59.51 0 1.02-.2 1.41-.59l7.78-7.78 2.81-2.81c.8-.78.8-2.07 0-2.86zM5.41 20L4 18.59l7.72-7.72 1.47 1.35L5.41 20z\"/>\n",
              "  </svg>\n",
              "      </button>\n",
              "      \n",
              "  <style>\n",
              "    .colab-df-container {\n",
              "      display:flex;\n",
              "      flex-wrap:wrap;\n",
              "      gap: 12px;\n",
              "    }\n",
              "\n",
              "    .colab-df-convert {\n",
              "      background-color: #E8F0FE;\n",
              "      border: none;\n",
              "      border-radius: 50%;\n",
              "      cursor: pointer;\n",
              "      display: none;\n",
              "      fill: #1967D2;\n",
              "      height: 32px;\n",
              "      padding: 0 0 0 0;\n",
              "      width: 32px;\n",
              "    }\n",
              "\n",
              "    .colab-df-convert:hover {\n",
              "      background-color: #E2EBFA;\n",
              "      box-shadow: 0px 1px 2px rgba(60, 64, 67, 0.3), 0px 1px 3px 1px rgba(60, 64, 67, 0.15);\n",
              "      fill: #174EA6;\n",
              "    }\n",
              "\n",
              "    [theme=dark] .colab-df-convert {\n",
              "      background-color: #3B4455;\n",
              "      fill: #D2E3FC;\n",
              "    }\n",
              "\n",
              "    [theme=dark] .colab-df-convert:hover {\n",
              "      background-color: #434B5C;\n",
              "      box-shadow: 0px 1px 3px 1px rgba(0, 0, 0, 0.15);\n",
              "      filter: drop-shadow(0px 1px 2px rgba(0, 0, 0, 0.3));\n",
              "      fill: #FFFFFF;\n",
              "    }\n",
              "  </style>\n",
              "\n",
              "      <script>\n",
              "        const buttonEl =\n",
              "          document.querySelector('#df-16105eda-e27e-4957-a15e-53741d471a24 button.colab-df-convert');\n",
              "        buttonEl.style.display =\n",
              "          google.colab.kernel.accessAllowed ? 'block' : 'none';\n",
              "\n",
              "        async function convertToInteractive(key) {\n",
              "          const element = document.querySelector('#df-16105eda-e27e-4957-a15e-53741d471a24');\n",
              "          const dataTable =\n",
              "            await google.colab.kernel.invokeFunction('convertToInteractive',\n",
              "                                                     [key], {});\n",
              "          if (!dataTable) return;\n",
              "\n",
              "          const docLinkHtml = 'Like what you see? Visit the ' +\n",
              "            '<a target=\"_blank\" href=https://colab.research.google.com/notebooks/data_table.ipynb>data table notebook</a>'\n",
              "            + ' to learn more about interactive tables.';\n",
              "          element.innerHTML = '';\n",
              "          dataTable['output_type'] = 'display_data';\n",
              "          await google.colab.output.renderOutput(dataTable, element);\n",
              "          const docLink = document.createElement('div');\n",
              "          docLink.innerHTML = docLinkHtml;\n",
              "          element.appendChild(docLink);\n",
              "        }\n",
              "      </script>\n",
              "    </div>\n",
              "  </div>\n",
              "  "
            ]
          },
          "metadata": {},
          "execution_count": 95
        }
      ]
    }
  ]
}