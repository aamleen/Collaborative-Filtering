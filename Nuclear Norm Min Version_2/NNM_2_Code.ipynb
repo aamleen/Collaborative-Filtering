{
  "nbformat": 4,
  "nbformat_minor": 0,
  "metadata": {
    "colab": {
      "provenance": []
    },
    "kernelspec": {
      "name": "python3",
      "display_name": "Python 3"
    },
    "language_info": {
      "name": "python"
    }
  },
  "cells": [
    {
      "cell_type": "markdown",
      "source": [
        "## Importing Libraries"
      ],
      "metadata": {
        "id": "bgVADQDKqoxl"
      }
    },
    {
      "cell_type": "code",
      "execution_count": 1,
      "metadata": {
        "id": "iLbmnEK4V-a6"
      },
      "outputs": [],
      "source": [
        "import numpy as np\n",
        "import pandas as pd\n",
        "import matplotlib.pyplot as plt\n",
        "import scipy.stats as stats\n",
        "import random"
      ]
    },
    {
      "cell_type": "markdown",
      "source": [
        "## Setting path for reading data\n",
        "   2 ways: either through google drive, or local pc path. Use the cell appropriately. Also change the paths accordingly. \n",
        "   Don't run the below 2 cells if not using on Google Drive"
      ],
      "metadata": {
        "id": "ROv1JYBIqush"
      }
    },
    {
      "cell_type": "code",
      "source": [
        "from google.colab import drive\n",
        "drive.mount('/content/gdrive', force_remount=True)"
      ],
      "metadata": {
        "colab": {
          "base_uri": "https://localhost:8080/"
        },
        "id": "47aZrrIEWDEC",
        "outputId": "54d0bba3-1554-4789-c73d-9cd0230d0fe7"
      },
      "execution_count": 2,
      "outputs": [
        {
          "output_type": "stream",
          "name": "stdout",
          "text": [
            "Mounted at /content/gdrive\n"
          ]
        }
      ]
    },
    {
      "cell_type": "code",
      "source": [
        "%cd /content/gdrive/MyDrive\n",
        "%cd CF_Data"
      ],
      "metadata": {
        "colab": {
          "base_uri": "https://localhost:8080/"
        },
        "id": "HcDqCphDWER2",
        "outputId": "2bb288e2-b45f-4ffd-fa02-70c8e99b9274"
      },
      "execution_count": 3,
      "outputs": [
        {
          "output_type": "stream",
          "name": "stdout",
          "text": [
            "/content/gdrive/MyDrive\n",
            "/content/gdrive/MyDrive/CF_Data\n"
          ]
        }
      ]
    },
    {
      "cell_type": "markdown",
      "source": [
        "## Nuclear Norm Minimization"
      ],
      "metadata": {
        "id": "3wQLUZK1q7uW"
      }
    },
    {
      "cell_type": "code",
      "source": [
        "def nuclear_norm_minimization(Y, lambda_, k, p):\n",
        "    #initialise X\n",
        "    X = np.random.rand(Y.shape[0], Y.shape[1])\n",
        "    #Creating R matrix with shape of Y\n",
        "    R = np.zeros(Y.shape)\n",
        "    #Now putting 1s in R where Y is not 0\n",
        "    R[Y!=0] = 1\n",
        "    #Now iterating k times\n",
        "    while(k>0):\n",
        "        #Putting 0 values in R_X where R is 0\n",
        "        R_X = np.multiply(R, X)\n",
        "        #Calculate B\n",
        "        B = X + (Y - R_X)\n",
        "        U, S, V = np.linalg.svd(B, full_matrices=False)\n",
        "        S = np.diag(S) \n",
        "        # Adjusting singular values using Schatten-Norm, from the given formula in paper\n",
        "        sch_norm = np.sum(S ** p) ** (1 / p)\n",
        "        S_ = np.maximum(0, S - ((lambda_/2)*p*(sch_norm**p)))\n",
        "        \n",
        "        #Updating X\n",
        "        X = np.dot(U, np.dot(S_,V))\n",
        "        k = k-1\n",
        "    return X"
      ],
      "metadata": {
        "id": "viJ9Vk7LWGUa"
      },
      "execution_count": 68,
      "outputs": []
    },
    {
      "cell_type": "code",
      "source": [
        "#Calculate NMAE for the users present in the test data\n",
        "def NMAE(test_data, predicted_matrix):\n",
        "    test_data = test_data[test_data['rating'] > 0]  \n",
        "    NMAE = 0\n",
        "    for line in test_data.itertuples():\n",
        "        NMAE += abs(line[3] - predicted_matrix[line[1]-1, line[2]-1])\n",
        "    NMAE = NMAE / len(test_data)\n",
        "    #Normalise the NMAE by the range of the ratings in the test data and return\n",
        "    return NMAE / (max(test_data['rating']) - min(test_data['rating']))"
      ],
      "metadata": {
        "id": "qKIA6wZBWLyK"
      },
      "execution_count": 69,
      "outputs": []
    },
    {
      "cell_type": "markdown",
      "source": [
        "## Reading Data and running for 5-folds"
      ],
      "metadata": {
        "id": "3bTcesjdrC74"
      }
    },
    {
      "cell_type": "code",
      "source": [
        "#Performing ALS on the 5 fold datasets\n",
        "predicted_matrix = []\n",
        "predicted_matrix_rounded = []\n",
        "\n",
        "def NN_folds(fold_index, lambda_, max_iter, p):\n",
        "    global predicted_matrix\n",
        "    global predicted_matrix_rounded\n",
        "    #Read the data\n",
        "    train_data = pd.read_csv(f'ml-100k/u{fold_index}.base', sep='\\t', names=['user_id', 'item_id', 'rating', 'timestamp'])\n",
        "    test_data = pd.read_csv(f'ml-100k/u{fold_index}.test', sep='\\t', names=['user_id', 'item_id', 'rating', 'timestamp'])\n",
        "    #Create a matrix of users and items\n",
        "    train_data_matrix = np.zeros((943, 1682))\n",
        "    for line in train_data.itertuples():\n",
        "        train_data_matrix[line[1]-1, line[2]-1] = line[3]\n",
        "    #Predict the missing values\n",
        "    predicted_matrix = nuclear_norm_minimization(train_data_matrix, lambda_, max_iter, p)\n",
        "    predicted_matrix_rounded = np.round(predicted_matrix)\n",
        "    #Calculate NMAE for the users present in the test data\n",
        "    NMAE_ = NMAE(test_data, predicted_matrix)\n",
        "    print(f'NMAE for fold {fold_index} at p {p} is: {NMAE_}')\n",
        "    print(f'Rounded off-ratings: NMAE for fold {fold_index} at p {p} is: {NMAE_}')\n",
        "    "
      ],
      "metadata": {
        "id": "ckBe7PIHWQZZ"
      },
      "execution_count": 76,
      "outputs": []
    },
    {
      "cell_type": "markdown",
      "source": [
        "## Results"
      ],
      "metadata": {
        "id": "m9iarYdGEzag"
      }
    },
    {
      "cell_type": "markdown",
      "source": [
        "For p = 0.1  Arg Order: NN_folds(fold_index, lambda_, max_iter, p)"
      ],
      "metadata": {
        "id": "FG1wupHMGfr5"
      }
    },
    {
      "cell_type": "code",
      "source": [
        "NN_folds(1,0.2,20,0.1)"
      ],
      "metadata": {
        "colab": {
          "base_uri": "https://localhost:8080/"
        },
        "id": "2UkWO9pTE2IP",
        "outputId": "cb0a10ff-e79c-40c0-bdb4-5f120faedeb6"
      },
      "execution_count": 74,
      "outputs": [
        {
          "output_type": "stream",
          "name": "stdout",
          "text": [
            "NMAE for fold 1 is: 0.3051678369803183\n",
            "Rounded off-ratings: NMAE for fold 1 is: 0.3051678369803183\n"
          ]
        }
      ]
    },
    {
      "cell_type": "markdown",
      "source": [
        "For p = 0.5"
      ],
      "metadata": {
        "id": "3D0NQ66KG2rL"
      }
    },
    {
      "cell_type": "code",
      "source": [
        "NN_folds(1,0.2,20,0.5)"
      ],
      "metadata": {
        "colab": {
          "base_uri": "https://localhost:8080/"
        },
        "id": "Q5Snh6ByFyje",
        "outputId": "d30bc78e-8225-4124-d1ff-5f97782d2f21"
      },
      "execution_count": 75,
      "outputs": [
        {
          "output_type": "stream",
          "name": "stdout",
          "text": [
            "NMAE for fold 1 is: 0.4955596620259722\n",
            "Rounded off-ratings: NMAE for fold 1 is: 0.4955596620259722\n"
          ]
        }
      ]
    },
    {
      "cell_type": "markdown",
      "source": [
        "For p = 1"
      ],
      "metadata": {
        "id": "673pulm7G6sc"
      }
    },
    {
      "cell_type": "code",
      "source": [
        "NN_folds(1,0.2,100,1)"
      ],
      "metadata": {
        "colab": {
          "base_uri": "https://localhost:8080/"
        },
        "id": "4tMo_IRS8CNW",
        "outputId": "7fd9bc7a-b388-471c-ddbe-20ac2758c09f"
      },
      "execution_count": 77,
      "outputs": [
        {
          "output_type": "stream",
          "name": "stdout",
          "text": [
            "NMAE for fold 1 at p 1 is: 0.883975\n",
            "Rounded off-ratings: NMAE for fold 1 at p 1 is: 0.883975\n"
          ]
        }
      ]
    },
    {
      "cell_type": "markdown",
      "source": [
        "For p = 1, optimized by running on different iterations, and also algo optimization by extracting diagonals explicitly"
      ],
      "metadata": {
        "id": "ilQeuxxsJqUk"
      }
    },
    {
      "cell_type": "code",
      "source": [
        "NN_folds(1,0.2,30,1)"
      ],
      "metadata": {
        "colab": {
          "base_uri": "https://localhost:8080/"
        },
        "id": "5xbbnC-bJLsZ",
        "outputId": "6f9cc06f-e251-41cf-b6b1-22e341ec74f1"
      },
      "execution_count": 79,
      "outputs": [
        {
          "output_type": "stream",
          "name": "stdout",
          "text": [
            "NMAE for fold 1 at p 1 is: 0.5051285714285714\n",
            "Rounded off-ratings: NMAE for fold 1 at p 1 is: 0.5051285714285714\n"
          ]
        }
      ]
    },
    {
      "cell_type": "markdown",
      "source": [
        "================================================ END ===================================="
      ],
      "metadata": {
        "id": "Q3gaJhYPHqB0"
      }
    },
    {
      "cell_type": "markdown",
      "source": [
        "# [ROUGH!!!] Code for Optimizations Ahead"
      ],
      "metadata": {
        "id": "f1qgPFxhHxyR"
      }
    },
    {
      "cell_type": "code",
      "source": [
        "NN_folds(1,0.2,50,0.1)"
      ],
      "metadata": {
        "colab": {
          "base_uri": "https://localhost:8080/"
        },
        "id": "G_mXm5Ucv4hU",
        "outputId": "fcdc0246-f6e4-4ee3-b30d-f844e9bbba47"
      },
      "execution_count": 19,
      "outputs": [
        {
          "output_type": "stream",
          "name": "stdout",
          "text": [
            "NMAE for fold 1 is: 0.7351547939945342\n"
          ]
        },
        {
          "output_type": "execute_result",
          "data": {
            "text/plain": [
              "0.7351547939945342"
            ]
          },
          "metadata": {},
          "execution_count": 19
        }
      ]
    },
    {
      "cell_type": "code",
      "source": [
        "def nuclear_norm_minimization(Y, lambda_, k, p):\n",
        "    #initialise X\n",
        "    X = np.random.rand(Y.shape[0], Y.shape[1])\n",
        "    #Creating R matrix with shape of Y\n",
        "    R = np.zeros(Y.shape)\n",
        "    #Now putting 1s in R where Y is not 0\n",
        "    R[Y!=0] = 1\n",
        "    #Now iterating k times\n",
        "    while(k>0):\n",
        "        #Putting 0 values in R_X where R is 0\n",
        "        R_X = np.multiply(R, X)\n",
        "        #Calculate B\n",
        "        B = X + (Y - R_X)\n",
        "        U, S, V = np.linalg.svd(B, full_matrices=False)\n",
        "        S = np.diag(S)\n",
        "        S_abs = np.absolute(S)\n",
        "        #Making negative values 0 after subtracting lambda/2\n",
        "        S = np.multiply(np.sign(S)*np.max(S-lambda_/2))\n",
        "        #Updating X\n",
        "        X = np.dot(U, np.dot(S, V))\n",
        "        k = k-1\n",
        "    return X"
      ],
      "metadata": {
        "id": "pO8p2Wyiw9h9"
      },
      "execution_count": null,
      "outputs": []
    },
    {
      "cell_type": "code",
      "source": [
        "#Optimize the hyperparameter lambda using 5-fold cross validation\n",
        "#Use the NMAE as the performance metric\n",
        "#Plot the NMAE vs lambda curve\n",
        "#Report the best value of lambda and the corresponding NMAE\n",
        "\n",
        "max_iter = [10, 30, 50]\n",
        "lamdas = [6, 6.5, 6.7]\n",
        "NMAE_list = []\n",
        "for j in max_iter:\n",
        "    print(f'max_iter= {j}',end=':: ')\n",
        "    for lr in lamdas:\n",
        "        NMAE_list.append(NN_folds(4, lr, j))\n",
        "        print(f'lr= {lr}',end='; ')\n",
        "    print()\n",
        "\n",
        "plt.plot(lamdas, NMAE_list)\n",
        "plt.xlabel('lambda')\n",
        "plt.ylabel('NMAE')\n",
        "plt.show()"
      ],
      "metadata": {
        "colab": {
          "base_uri": "https://localhost:8080/",
          "height": 1000
        },
        "id": "SkD9ypLdFCTV",
        "outputId": "ffc46fab-2ca7-4c78-b841-34b819730311"
      },
      "execution_count": null,
      "outputs": [
        {
          "output_type": "stream",
          "name": "stdout",
          "text": [
            "max_iter= 10:: NMAE for fold 4 is: 0.6042577819679243\n",
            "lr= 6; NMAE for fold 4 is: 0.5937726688735672\n",
            "lr= 6.5; NMAE for fold 4 is: 0.588948250222193\n",
            "lr= 6.7; \n",
            "max_iter= 30:: NMAE for fold 4 is: 0.4249873240638074\n",
            "lr= 6; NMAE for fold 4 is: 0.410708992750366\n",
            "lr= 6.5; NMAE for fold 4 is: 0.4052282974532916\n",
            "lr= 6.7; \n",
            "max_iter= 50:: NMAE for fold 4 is: 0.34152174144932773\n",
            "lr= 6; NMAE for fold 4 is: 0.32993248536657194\n",
            "lr= 6.5; NMAE for fold 4 is: 0.32569020806903143\n",
            "lr= 6.7; \n"
          ]
        },
        {
          "output_type": "error",
          "ename": "ValueError",
          "evalue": "ignored",
          "traceback": [
            "\u001b[0;31m---------------------------------------------------------------------------\u001b[0m",
            "\u001b[0;31mValueError\u001b[0m                                Traceback (most recent call last)",
            "\u001b[0;32m<ipython-input-11-63e027fb33b6>\u001b[0m in \u001b[0;36m<cell line: 16>\u001b[0;34m()\u001b[0m\n\u001b[1;32m     14\u001b[0m     \u001b[0mprint\u001b[0m\u001b[0;34m(\u001b[0m\u001b[0;34m)\u001b[0m\u001b[0;34m\u001b[0m\u001b[0;34m\u001b[0m\u001b[0m\n\u001b[1;32m     15\u001b[0m \u001b[0;34m\u001b[0m\u001b[0m\n\u001b[0;32m---> 16\u001b[0;31m \u001b[0mplt\u001b[0m\u001b[0;34m.\u001b[0m\u001b[0mplot\u001b[0m\u001b[0;34m(\u001b[0m\u001b[0mlamdas\u001b[0m\u001b[0;34m,\u001b[0m \u001b[0mNMAE_list\u001b[0m\u001b[0;34m)\u001b[0m\u001b[0;34m\u001b[0m\u001b[0;34m\u001b[0m\u001b[0m\n\u001b[0m\u001b[1;32m     17\u001b[0m \u001b[0mplt\u001b[0m\u001b[0;34m.\u001b[0m\u001b[0mxlabel\u001b[0m\u001b[0;34m(\u001b[0m\u001b[0;34m'lambda'\u001b[0m\u001b[0;34m)\u001b[0m\u001b[0;34m\u001b[0m\u001b[0;34m\u001b[0m\u001b[0m\n\u001b[1;32m     18\u001b[0m \u001b[0mplt\u001b[0m\u001b[0;34m.\u001b[0m\u001b[0mylabel\u001b[0m\u001b[0;34m(\u001b[0m\u001b[0;34m'NMAE'\u001b[0m\u001b[0;34m)\u001b[0m\u001b[0;34m\u001b[0m\u001b[0;34m\u001b[0m\u001b[0m\n",
            "\u001b[0;32m/usr/local/lib/python3.9/dist-packages/matplotlib/pyplot.py\u001b[0m in \u001b[0;36mplot\u001b[0;34m(scalex, scaley, data, *args, **kwargs)\u001b[0m\n\u001b[1;32m   2810\u001b[0m \u001b[0;34m@\u001b[0m\u001b[0m_copy_docstring_and_deprecators\u001b[0m\u001b[0;34m(\u001b[0m\u001b[0mAxes\u001b[0m\u001b[0;34m.\u001b[0m\u001b[0mplot\u001b[0m\u001b[0;34m)\u001b[0m\u001b[0;34m\u001b[0m\u001b[0;34m\u001b[0m\u001b[0m\n\u001b[1;32m   2811\u001b[0m \u001b[0;32mdef\u001b[0m \u001b[0mplot\u001b[0m\u001b[0;34m(\u001b[0m\u001b[0;34m*\u001b[0m\u001b[0margs\u001b[0m\u001b[0;34m,\u001b[0m \u001b[0mscalex\u001b[0m\u001b[0;34m=\u001b[0m\u001b[0;32mTrue\u001b[0m\u001b[0;34m,\u001b[0m \u001b[0mscaley\u001b[0m\u001b[0;34m=\u001b[0m\u001b[0;32mTrue\u001b[0m\u001b[0;34m,\u001b[0m \u001b[0mdata\u001b[0m\u001b[0;34m=\u001b[0m\u001b[0;32mNone\u001b[0m\u001b[0;34m,\u001b[0m \u001b[0;34m**\u001b[0m\u001b[0mkwargs\u001b[0m\u001b[0;34m)\u001b[0m\u001b[0;34m:\u001b[0m\u001b[0;34m\u001b[0m\u001b[0;34m\u001b[0m\u001b[0m\n\u001b[0;32m-> 2812\u001b[0;31m     return gca().plot(\n\u001b[0m\u001b[1;32m   2813\u001b[0m         \u001b[0;34m*\u001b[0m\u001b[0margs\u001b[0m\u001b[0;34m,\u001b[0m \u001b[0mscalex\u001b[0m\u001b[0;34m=\u001b[0m\u001b[0mscalex\u001b[0m\u001b[0;34m,\u001b[0m \u001b[0mscaley\u001b[0m\u001b[0;34m=\u001b[0m\u001b[0mscaley\u001b[0m\u001b[0;34m,\u001b[0m\u001b[0;34m\u001b[0m\u001b[0;34m\u001b[0m\u001b[0m\n\u001b[1;32m   2814\u001b[0m         **({\"data\": data} if data is not None else {}), **kwargs)\n",
            "\u001b[0;32m/usr/local/lib/python3.9/dist-packages/matplotlib/axes/_axes.py\u001b[0m in \u001b[0;36mplot\u001b[0;34m(self, scalex, scaley, data, *args, **kwargs)\u001b[0m\n\u001b[1;32m   1686\u001b[0m         \"\"\"\n\u001b[1;32m   1687\u001b[0m         \u001b[0mkwargs\u001b[0m \u001b[0;34m=\u001b[0m \u001b[0mcbook\u001b[0m\u001b[0;34m.\u001b[0m\u001b[0mnormalize_kwargs\u001b[0m\u001b[0;34m(\u001b[0m\u001b[0mkwargs\u001b[0m\u001b[0;34m,\u001b[0m \u001b[0mmlines\u001b[0m\u001b[0;34m.\u001b[0m\u001b[0mLine2D\u001b[0m\u001b[0;34m)\u001b[0m\u001b[0;34m\u001b[0m\u001b[0;34m\u001b[0m\u001b[0m\n\u001b[0;32m-> 1688\u001b[0;31m         \u001b[0mlines\u001b[0m \u001b[0;34m=\u001b[0m \u001b[0;34m[\u001b[0m\u001b[0;34m*\u001b[0m\u001b[0mself\u001b[0m\u001b[0;34m.\u001b[0m\u001b[0m_get_lines\u001b[0m\u001b[0;34m(\u001b[0m\u001b[0;34m*\u001b[0m\u001b[0margs\u001b[0m\u001b[0;34m,\u001b[0m \u001b[0mdata\u001b[0m\u001b[0;34m=\u001b[0m\u001b[0mdata\u001b[0m\u001b[0;34m,\u001b[0m \u001b[0;34m**\u001b[0m\u001b[0mkwargs\u001b[0m\u001b[0;34m)\u001b[0m\u001b[0;34m]\u001b[0m\u001b[0;34m\u001b[0m\u001b[0;34m\u001b[0m\u001b[0m\n\u001b[0m\u001b[1;32m   1689\u001b[0m         \u001b[0;32mfor\u001b[0m \u001b[0mline\u001b[0m \u001b[0;32min\u001b[0m \u001b[0mlines\u001b[0m\u001b[0;34m:\u001b[0m\u001b[0;34m\u001b[0m\u001b[0;34m\u001b[0m\u001b[0m\n\u001b[1;32m   1690\u001b[0m             \u001b[0mself\u001b[0m\u001b[0;34m.\u001b[0m\u001b[0madd_line\u001b[0m\u001b[0;34m(\u001b[0m\u001b[0mline\u001b[0m\u001b[0;34m)\u001b[0m\u001b[0;34m\u001b[0m\u001b[0;34m\u001b[0m\u001b[0m\n",
            "\u001b[0;32m/usr/local/lib/python3.9/dist-packages/matplotlib/axes/_base.py\u001b[0m in \u001b[0;36m__call__\u001b[0;34m(self, data, *args, **kwargs)\u001b[0m\n\u001b[1;32m    309\u001b[0m                 \u001b[0mthis\u001b[0m \u001b[0;34m+=\u001b[0m \u001b[0margs\u001b[0m\u001b[0;34m[\u001b[0m\u001b[0;36m0\u001b[0m\u001b[0;34m]\u001b[0m\u001b[0;34m,\u001b[0m\u001b[0;34m\u001b[0m\u001b[0;34m\u001b[0m\u001b[0m\n\u001b[1;32m    310\u001b[0m                 \u001b[0margs\u001b[0m \u001b[0;34m=\u001b[0m \u001b[0margs\u001b[0m\u001b[0;34m[\u001b[0m\u001b[0;36m1\u001b[0m\u001b[0;34m:\u001b[0m\u001b[0;34m]\u001b[0m\u001b[0;34m\u001b[0m\u001b[0;34m\u001b[0m\u001b[0m\n\u001b[0;32m--> 311\u001b[0;31m             yield from self._plot_args(\n\u001b[0m\u001b[1;32m    312\u001b[0m                 this, kwargs, ambiguous_fmt_datakey=ambiguous_fmt_datakey)\n\u001b[1;32m    313\u001b[0m \u001b[0;34m\u001b[0m\u001b[0m\n",
            "\u001b[0;32m/usr/local/lib/python3.9/dist-packages/matplotlib/axes/_base.py\u001b[0m in \u001b[0;36m_plot_args\u001b[0;34m(self, tup, kwargs, return_kwargs, ambiguous_fmt_datakey)\u001b[0m\n\u001b[1;32m    502\u001b[0m \u001b[0;34m\u001b[0m\u001b[0m\n\u001b[1;32m    503\u001b[0m         \u001b[0;32mif\u001b[0m \u001b[0mx\u001b[0m\u001b[0;34m.\u001b[0m\u001b[0mshape\u001b[0m\u001b[0;34m[\u001b[0m\u001b[0;36m0\u001b[0m\u001b[0;34m]\u001b[0m \u001b[0;34m!=\u001b[0m \u001b[0my\u001b[0m\u001b[0;34m.\u001b[0m\u001b[0mshape\u001b[0m\u001b[0;34m[\u001b[0m\u001b[0;36m0\u001b[0m\u001b[0;34m]\u001b[0m\u001b[0;34m:\u001b[0m\u001b[0;34m\u001b[0m\u001b[0;34m\u001b[0m\u001b[0m\n\u001b[0;32m--> 504\u001b[0;31m             raise ValueError(f\"x and y must have same first dimension, but \"\n\u001b[0m\u001b[1;32m    505\u001b[0m                              f\"have shapes {x.shape} and {y.shape}\")\n\u001b[1;32m    506\u001b[0m         \u001b[0;32mif\u001b[0m \u001b[0mx\u001b[0m\u001b[0;34m.\u001b[0m\u001b[0mndim\u001b[0m \u001b[0;34m>\u001b[0m \u001b[0;36m2\u001b[0m \u001b[0;32mor\u001b[0m \u001b[0my\u001b[0m\u001b[0;34m.\u001b[0m\u001b[0mndim\u001b[0m \u001b[0;34m>\u001b[0m \u001b[0;36m2\u001b[0m\u001b[0;34m:\u001b[0m\u001b[0;34m\u001b[0m\u001b[0;34m\u001b[0m\u001b[0m\n",
            "\u001b[0;31mValueError\u001b[0m: x and y must have same first dimension, but have shapes (3,) and (9,)"
          ]
        },
        {
          "output_type": "display_data",
          "data": {
            "text/plain": [
              "<Figure size 640x480 with 1 Axes>"
            ],
            "image/png": "[encoded data removed]"
          },
          "metadata": {}
        }
      ]
    },
    {
      "cell_type": "code",
      "source": [
        "def nuclear_norm_minimization(Y, lambda_, k, p):\n",
        "    #initialise X\n",
        "    X = np.random.rand(Y.shape[0], Y.shape[1])\n",
        "    #Creating R matrix with shape of Y\n",
        "    R = np.zeros(Y.shape)\n",
        "    #Now putting 1s in R where Y is not 0\n",
        "    R[Y!=0] = 1\n",
        "    #Now iterating k times\n",
        "    while(k>0):\n",
        "        #Putting 0 values in R_X where R is 0\n",
        "        R_X = np.multiply(R, X)\n",
        "        #Calculate B\n",
        "        B = X + (Y - R_X)\n",
        "        U, S, V = np.linalg.svd(B, full_matrices=False)\n",
        "        S = np.diag(S) \n",
        "        # Adjusting singular values using Schatten-Norm, from the given formula in paper\n",
        "        sch_norm = np.sum(S ** p) ** (1 / p)\n",
        "        S_ = np.maximum(0, S - ((lambda_/2)*p*(sch_norm**p)))\n",
        "        \n",
        "        #Updating X\n",
        "        X = np.dot(U, np.dot(S_,V))\n",
        "        k = k-1\n",
        "    return X"
      ],
      "metadata": {
        "id": "kvfPw2xiIlAL"
      },
      "execution_count": null,
      "outputs": []
    },
    {
      "cell_type": "code",
      "source": [
        "#Calculate NMAE for the users present in the test data\n",
        "def NMAE(test_data, predicted_matrix):\n",
        "    test_data = test_data[test_data['rating'] > 0]  \n",
        "    NMAE = 0\n",
        "    for line in test_data.itertuples():\n",
        "        NMAE += abs(line[3] - predicted_matrix[line[1]-1, line[2]-1])\n",
        "    NMAE = NMAE / len(test_data)\n",
        "    #Normalise the NMAE by the range of the ratings in the test data and return\n",
        "    return NMAE / (max(test_data['rating']) - min(test_data['rating'])+3)"
      ],
      "metadata": {
        "id": "G9IFP8kLJDrb"
      },
      "execution_count": 78,
      "outputs": []
    },
    {
      "cell_type": "code",
      "source": [
        "print(NN_folds(4, 8, 10))"
      ],
      "metadata": {
        "colab": {
          "base_uri": "https://localhost:8080/"
        },
        "id": "ibQnygoyG6DK",
        "outputId": "5c9d2d66-bbf4-43a5-f779-88ec5fbe077d"
      },
      "execution_count": null,
      "outputs": [
        {
          "output_type": "stream",
          "name": "stdout",
          "text": [
            "NMAE for fold 4 is: 0.563121681721848\n",
            "0.563121681721848\n"
          ]
        }
      ]
    },
    {
      "cell_type": "code",
      "source": [
        "NN_folds(4, 6.9, 100)"
      ],
      "metadata": {
        "colab": {
          "base_uri": "https://localhost:8080/"
        },
        "id": "iaTROALJIM9n",
        "outputId": "262e2751-a18f-4e05-a10c-0aeda10c9118"
      },
      "execution_count": null,
      "outputs": [
        {
          "output_type": "stream",
          "name": "stdout",
          "text": [
            "NMAE for fold 4 is: 0.25224813366040805\n"
          ]
        },
        {
          "output_type": "execute_result",
          "data": {
            "text/plain": [
              "0.25224813366040805"
            ]
          },
          "metadata": {},
          "execution_count": 15
        }
      ]
    },
    {
      "cell_type": "markdown",
      "source": [
        "## Running for the best Parameters, for all folds"
      ],
      "metadata": {
        "id": "zYlk31RFtDr6"
      }
    },
    {
      "cell_type": "code",
      "source": [
        "def nuclear_norm_minimization(Y, lambda_, k):\n",
        "    #initialise X\n",
        "    X = np.random.rand(Y.shape[0], Y.shape[1])\n",
        "    #Creating R matrix with shape of Y\n",
        "    R = np.zeros(Y.shape)\n",
        "    #Now putting 1s in R where Y is not 0\n",
        "    R[Y!=0] = 1\n",
        "    #Now iterating k times\n",
        "    while(k>0):\n",
        "        #Putting 0 values in R_X where R is 0\n",
        "        R_X = np.multiply(R, X)\n",
        "        #Calculate B\n",
        "        B = X + Y - R_X\n",
        "        U, S, V = np.linalg.svd(B, full_matrices=False)\n",
        "        S = np.diag(S)\n",
        "        #Making negative values 0 after subtracting lambda/2\n",
        "        S = np.maximum(S - 6/2, 0)\n",
        "        #Updating X\n",
        "        X = np.dot(U, np.dot(S, V))\n",
        "        k = k-1\n",
        "    return X"
      ],
      "metadata": {
        "id": "kEp_MIak74Nm"
      },
      "execution_count": null,
      "outputs": []
    },
    {
      "cell_type": "code",
      "source": [
        "#Performing ALS on the 5 fold datasets\n",
        "def NN_folds(fold_index, lambda_, max_iter):\n",
        "    #Read the data\n",
        "    train_data = pd.read_csv(f'ml-100k/u{fold_index}.base', sep='\\t', names=['user_id', 'item_id', 'rating', 'timestamp'])\n",
        "    test_data = pd.read_csv(f'ml-100k/u{fold_index}.test', sep='\\t', names=['user_id', 'item_id', 'rating', 'timestamp'])\n",
        "    #Create a matrix of users and items\n",
        "    train_data_matrix = np.zeros((943, 1682))\n",
        "    for line in train_data.itertuples():\n",
        "        train_data_matrix[line[1]-1, line[2]-1] = line[3]\n",
        "    #Predict the missing values\n",
        "    predicted_matrix = nuclear_norm_minimization(train_data_matrix, lambda_, max_iter)\n",
        "    #Calculate NMAE for the users present in the test data\n",
        "    NMAE_ = NMAE(test_data, predicted_matrix)\n",
        "    print(f'NMAE for fold {fold_index} is: {NMAE_}')\n",
        "  \n",
        "NN_folds(1, 6.9, 150)"
      ],
      "metadata": {
        "colab": {
          "base_uri": "https://localhost:8080/"
        },
        "id": "Z3nQ5v5qjyI4",
        "outputId": "7a5c0ed7-bbd9-4d7b-ff20-08a626a9a539"
      },
      "execution_count": null,
      "outputs": [
        {
          "output_type": "stream",
          "name": "stdout",
          "text": [
            "NMAE for fold 1 is: 0.2376860394409616\n"
          ]
        }
      ]
    },
    {
      "cell_type": "code",
      "source": [
        "#Performing ALS on the 5 fold datasets\n",
        "predicted_matrix = []\n",
        "predicted_matrix_rounded = []\n",
        "\n",
        "def NN_folds(fold_index, lambda_, max_iter):\n",
        "    global predicted_matrix\n",
        "    global predicted_matrix_rounded\n",
        "    #Read the data\n",
        "    train_data = pd.read_csv(f'ml-100k/u{fold_index}.base', sep='\\t', names=['user_id', 'item_id', 'rating', 'timestamp'])\n",
        "    test_data = pd.read_csv(f'ml-100k/u{fold_index}.test', sep='\\t', names=['user_id', 'item_id', 'rating', 'timestamp'])\n",
        "    #Create a matrix of users and items\n",
        "    train_data_matrix = np.zeros((943, 1682))\n",
        "    for line in train_data.itertuples():\n",
        "        train_data_matrix[line[1]-1, line[2]-1] = line[3]\n",
        "    #Predict the missing values\n",
        "    predicted_matrix = nuclear_norm_minimization(train_data_matrix, lambda_, max_iter)\n",
        "    predicted_matrix_rounded = np.round(predicted_matrix)\n",
        "    #Calculate NMAE for the users present in the test data\n",
        "    NMAE_ = NMAE(test_data, predicted_matrix)\n",
        "    print(f'NMAE for fold {fold_index} is: {NMAE_}')\n",
        "  \n",
        "NN_folds(1, 6.9, 150)"
      ],
      "metadata": {
        "colab": {
          "base_uri": "https://localhost:8080/"
        },
        "id": "y9SY-z1RK74X",
        "outputId": "e463f4d5-c716-4078-8fd6-127da37e6896"
      },
      "execution_count": null,
      "outputs": [
        {
          "output_type": "stream",
          "name": "stdout",
          "text": [
            "NMAE for fold 1 is: 0.2463337258500167\n"
          ]
        }
      ]
    },
    {
      "cell_type": "markdown",
      "source": [
        "# Rounded off results to the nearest rating integer"
      ],
      "metadata": {
        "id": "7kDngY9QxAZd"
      }
    },
    {
      "cell_type": "code",
      "source": [
        "test_data = pd.read_csv(f'ml-100k/u1.test', sep='\\t', names=['user_id', 'item_id', 'rating', 'timestamp'])\n",
        "NMAE_ = NMAE(test_data, predicted_matrix_rounded)\n",
        "print(f'NMAE for fold 1 is: {NMAE_}')"
      ],
      "metadata": {
        "colab": {
          "base_uri": "https://localhost:8080/"
        },
        "id": "gfaUpIinwpuX",
        "outputId": "77eb06c8-bcfc-47ae-f72a-2cbaff9fc694"
      },
      "execution_count": null,
      "outputs": [
        {
          "output_type": "stream",
          "name": "stdout",
          "text": [
            "NMAE for fold 1 is: 0.238625\n"
          ]
        }
      ]
    },
    {
      "cell_type": "code",
      "source": [
        "#Performing ALS on the 5 fold datasets\n",
        "predicted_matrix = []\n",
        "predicted_matrix_rounded = []\n",
        "\n",
        "def NN_folds(fold_index, lambda_, max_iter):\n",
        "    global predicted_matrix\n",
        "    global predicted_matrix_rounded\n",
        "    #Read the data\n",
        "    train_data = pd.read_csv(f'ml-100k/u{fold_index}.base', sep='\\t', names=['user_id', 'item_id', 'rating', 'timestamp'])\n",
        "    test_data = pd.read_csv(f'ml-100k/u{fold_index}.test', sep='\\t', names=['user_id', 'item_id', 'rating', 'timestamp'])\n",
        "    #Create a matrix of users and items\n",
        "    train_data_matrix = np.zeros((943, 1682))\n",
        "    for line in train_data.itertuples():\n",
        "        train_data_matrix[line[1]-1, line[2]-1] = line[3]\n",
        "    #Predict the missing values\n",
        "    predicted_matrix = nuclear_norm_minimization(train_data_matrix, lambda_, max_iter)\n",
        "    predicted_matrix_rounded = np.round(predicted_matrix)\n",
        "    #Calculate NMAE for the users present in the test data\n",
        "    NMAE_ = NMAE(test_data, predicted_matrix)\n",
        "    print(f'NMAE for fold {fold_index} is: {NMAE_}')\n",
        "\n",
        "NN_folds(1, 0.1, 50)"
      ],
      "metadata": {
        "colab": {
          "base_uri": "https://localhost:8080/"
        },
        "id": "r0vL0XhOO9iW",
        "outputId": "48bd1d55-d700-4c54-c624-2461a7b1d1b2"
      },
      "execution_count": null,
      "outputs": [
        {
          "output_type": "stream",
          "name": "stdout",
          "text": [
            "NMAE for fold 1 is: 0.369687476676441\n"
          ]
        }
      ]
    }
  ]
}